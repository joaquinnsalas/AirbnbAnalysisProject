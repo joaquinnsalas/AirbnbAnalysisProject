{
 "cells": [
  {
   "cell_type": "markdown",
   "id": "prostate-arizona",
   "metadata": {
    "id": "bA5ajAmk7XH6"
   },
   "source": [
    "# Workspace Walkthrough\n",
    "\n",
    "Welcome to your workspace! Here, you can write code and text, run analyses, and share your data insights. Learn more below 🏁 "
   ]
  },
  {
   "cell_type": "markdown",
   "id": "southeast-minister",
   "metadata": {
    "id": "f3DWM02J8bCl",
    "tags": []
   },
   "source": [
    "## 1. Run code 🏃\n",
    "\n",
    "Add and run Python code cells like the one below:"
   ]
  },
  {
   "cell_type": "code",
   "execution_count": 3,
   "id": "uniform-isolation",
   "metadata": {
    "outputsMetadata": {
     "0": {
      "height": 17,
      "type": "plotly"
     }
    }
   },
   "outputs": [
    {
     "data": {
      "application/vnd.plotly.v1+json": {
       "config": {
        "plotlyServerURL": "https://plot.ly"
       },
       "data": [
        {
         "customdata": [
          [
           "Train"
          ],
          [
           "Eminem"
          ],
          [
           "Kesha"
          ],
          [
           "Lady Gaga"
          ],
          [
           "Bruno Mars"
          ],
          [
           "Justin Bieber"
          ],
          [
           "Taio Cruz"
          ],
          [
           "OneRepublic"
          ],
          [
           "Alicia Keys"
          ],
          [
           "Rihanna"
          ],
          [
           "Flo Rida"
          ],
          [
           "Bruno Mars"
          ],
          [
           "Mike Posner"
          ],
          [
           "Lady Gaga"
          ],
          [
           "Far East Movement"
          ],
          [
           "Usher"
          ],
          [
           "Sean Kingston"
          ],
          [
           "The Black Eyed Peas"
          ],
          [
           "Lady Gaga"
          ],
          [
           "Kesha"
          ],
          [
           "The Black Eyed Peas"
          ],
          [
           "Adam Lambert"
          ],
          [
           "Kesha"
          ],
          [
           "Maroon 5"
          ],
          [
           "OneRepublic"
          ],
          [
           "Neon Trees"
          ],
          [
           "Selena Gomez & The Scene"
          ],
          [
           "Enrique Iglesias"
          ],
          [
           "Katy Perry"
          ],
          [
           "Katy Perry"
          ],
          [
           "Britney Spears"
          ],
          [
           "3OH!3"
          ],
          [
           "Kesha"
          ],
          [
           "The Black Eyed Peas"
          ],
          [
           "Alicia Keys"
          ],
          [
           "David Guetta"
          ],
          [
           "Christina Aguilera"
          ],
          [
           "Adam Lambert"
          ],
          [
           "The Black Eyed Peas"
          ],
          [
           "Florence + The Machine"
          ],
          [
           "Christina Aguilera"
          ],
          [
           "Alicia Keys"
          ],
          [
           "Rihanna"
          ],
          [
           "Shakira"
          ],
          [
           "Christina Aguilera"
          ],
          [
           "Christina Aguilera"
          ],
          [
           "Tinie Tempah"
          ],
          [
           "Usher"
          ],
          [
           "T.I."
          ],
          [
           "Taio Cruz"
          ],
          [
           "Martin Solveig"
          ],
          [
           "Christina Perri"
          ],
          [
           "Adele"
          ],
          [
           "Pitbull"
          ],
          [
           "Bruno Mars"
          ],
          [
           "Adele"
          ],
          [
           "Beyoncé"
          ],
          [
           "Maroon 5"
          ],
          [
           "Beyoncé"
          ],
          [
           "Bruno Mars"
          ],
          [
           "Hot Chelle Rae"
          ],
          [
           "Avril Lavigne"
          ],
          [
           "Lady Gaga"
          ],
          [
           "Kanye West"
          ],
          [
           "Bruno Mars"
          ],
          [
           "Beyoncé"
          ],
          [
           "LMFAO"
          ],
          [
           "Kesha"
          ],
          [
           "Jessie J"
          ],
          [
           "OneRepublic"
          ],
          [
           "The Black Eyed Peas"
          ],
          [
           "Jennifer Lopez"
          ],
          [
           "Rihanna"
          ],
          [
           "Chris Brown"
          ],
          [
           "David Guetta"
          ],
          [
           "LMFAO"
          ],
          [
           "Lady Gaga"
          ],
          [
           "Katy Perry"
          ],
          [
           "Britney Spears"
          ],
          [
           "Britney Spears"
          ],
          [
           "Kesha"
          ],
          [
           "Lady Gaga"
          ],
          [
           "Lady Gaga"
          ],
          [
           "Enrique Iglesias"
          ],
          [
           "Mike Posner"
          ],
          [
           "Rihanna"
          ],
          [
           "Lady Gaga"
          ],
          [
           "Beyoncé"
          ],
          [
           "Britney Spears"
          ],
          [
           "Jennifer Lopez"
          ],
          [
           "Jennifer Lopez"
          ],
          [
           "Rihanna"
          ],
          [
           "Rihanna"
          ],
          [
           "Tinie Tempah"
          ],
          [
           "Christina Perri"
          ],
          [
           "T.I."
          ],
          [
           "Sleeping At Last"
          ],
          [
           "Nicki Minaj"
          ],
          [
           "P!nk"
          ],
          [
           "Jennifer Lopez"
          ],
          [
           "Nicki Minaj"
          ],
          [
           "Katy Perry"
          ],
          [
           "Katy Perry"
          ],
          [
           "Nicki Minaj"
          ],
          [
           "David Guetta"
          ],
          [
           "Bruno Mars"
          ],
          [
           "Coldplay"
          ],
          [
           "Maroon 5"
          ],
          [
           "One Direction"
          ],
          [
           "Taylor Swift"
          ],
          [
           "Carly Rae Jepsen"
          ],
          [
           "Selena Gomez & The Scene"
          ],
          [
           "Adele"
          ],
          [
           "Taylor Swift"
          ],
          [
           "Kelly Clarkson"
          ],
          [
           "P!nk"
          ],
          [
           "Nicki Minaj"
          ],
          [
           "Maroon 5"
          ],
          [
           "Owl City"
          ],
          [
           "The Wanted"
          ],
          [
           "Justin Bieber"
          ],
          [
           "Pitbull"
          ],
          [
           "fun."
          ],
          [
           "Justin Bieber"
          ],
          [
           "Katy Perry"
          ],
          [
           "Jessie J"
          ],
          [
           "Rihanna"
          ],
          [
           "Katy Perry"
          ],
          [
           "Katy Perry"
          ],
          [
           "Jennifer Lopez"
          ],
          [
           "Chris Brown"
          ],
          [
           "Ellie Goulding"
          ],
          [
           "fun."
          ],
          [
           "Rihanna"
          ],
          [
           "Pitbull"
          ],
          [
           "Rihanna"
          ],
          [
           "Gym Class Heroes"
          ],
          [
           "Bruno Mars"
          ],
          [
           "P!nk"
          ],
          [
           "Kelly Clarkson"
          ],
          [
           "Avicii"
          ],
          [
           "One Direction"
          ],
          [
           "P!nk"
          ],
          [
           "The Script"
          ],
          [
           "Katy Perry"
          ],
          [
           "Miley Cyrus"
          ],
          [
           "Swedish House Mafia"
          ],
          [
           "Daft Punk"
          ],
          [
           "Miley Cyrus"
          ],
          [
           "James Arthur"
          ],
          [
           "Robin Thicke"
          ],
          [
           "Demi Lovato"
          ],
          [
           "Taylor Swift"
          ],
          [
           "Kesha"
          ],
          [
           "Zedd"
          ],
          [
           "Lana Del Rey"
          ],
          [
           "Calvin Harris"
          ],
          [
           "Neon Trees"
          ],
          [
           "Drake"
          ],
          [
           "One Direction"
          ],
          [
           "One Direction"
          ],
          [
           "Calvin Harris"
          ],
          [
           "Daft Punk"
          ],
          [
           "Britney Spears"
          ],
          [
           "Sara Bareilles"
          ],
          [
           "Macklemore & Ryan Lewis"
          ],
          [
           "Pitbull"
          ],
          [
           "Labrinth"
          ],
          [
           "Ne-Yo"
          ],
          [
           "Macklemore & Ryan Lewis"
          ],
          [
           "OneRepublic"
          ],
          [
           "Ariana Grande"
          ],
          [
           "Justin Timberlake"
          ],
          [
           "will.i.am"
          ],
          [
           "Icona Pop"
          ],
          [
           "David Guetta"
          ],
          [
           "Maroon 5"
          ],
          [
           "Maroon 5"
          ],
          [
           "Fergie"
          ],
          [
           "Little Mix"
          ],
          [
           "The Wanted"
          ],
          [
           "Avril Lavigne"
          ],
          [
           "Justin Bieber"
          ],
          [
           "Justin Timberlake"
          ],
          [
           "Emeli Sandé"
          ],
          [
           "Demi Lovato"
          ],
          [
           "Emeli Sandé"
          ],
          [
           "Alicia Keys"
          ],
          [
           "Justin Timberlake"
          ],
          [
           "Selena Gomez"
          ],
          [
           "Jennifer Lopez"
          ],
          [
           "The Wanted"
          ],
          [
           "Coldplay"
          ],
          [
           "Austin Mahone"
          ],
          [
           "Justin Timberlake"
          ],
          [
           "Lady Gaga"
          ],
          [
           "Ellie Goulding"
          ],
          [
           "Enrique Iglesias"
          ],
          [
           "Jonas Brothers"
          ],
          [
           "Mariah Carey"
          ],
          [
           "Little Mix"
          ],
          [
           "Kesha"
          ],
          [
           "Britney Spears"
          ],
          [
           "Kelly Clarkson"
          ],
          [
           "Ciara"
          ],
          [
           "Rihanna"
          ],
          [
           "Robin Thicke"
          ],
          [
           "Jewel"
          ],
          [
           "Pitbull"
          ],
          [
           "Kelly Rowland"
          ],
          [
           "John Legend"
          ],
          [
           "Sam Smith"
          ],
          [
           "Calvin Harris"
          ],
          [
           "Pharrell Williams"
          ],
          [
           "MAGIC!"
          ],
          [
           "Taylor Swift"
          ],
          [
           "Katy Perry"
          ],
          [
           "Avicii"
          ],
          [
           "Maroon 5"
          ],
          [
           "Bruno Mars"
          ],
          [
           "Passenger"
          ],
          [
           "Ariana Grande"
          ],
          [
           "Bastille"
          ],
          [
           "Lorde"
          ],
          [
           "John Newman"
          ],
          [
           "Disclosure"
          ],
          [
           "Miley Cyrus"
          ],
          [
           "Michael Jackson"
          ],
          [
           "Ellie Goulding"
          ],
          [
           "5 Seconds of Summer"
          ],
          [
           "Iggy Azalea"
          ],
          [
           "Jason Derulo"
          ],
          [
           "Bruno Mars"
          ],
          [
           "Christina Perri"
          ],
          [
           "Bruno Mars"
          ],
          [
           "Jason Derulo"
          ],
          [
           "OneRepublic"
          ],
          [
           "Katy Perry"
          ],
          [
           "Austin Mahone"
          ],
          [
           "Fergie"
          ],
          [
           "The Chainsmokers"
          ],
          [
           "Beyoncé"
          ],
          [
           "Katy Perry"
          ],
          [
           "Lady Gaga"
          ],
          [
           "Zedd"
          ],
          [
           "Demi Lovato"
          ],
          [
           "Birdy"
          ],
          [
           "Shakira"
          ],
          [
           "David Guetta"
          ],
          [
           "A Great Big World"
          ],
          [
           "Coldplay"
          ],
          [
           "Pharrell Williams"
          ],
          [
           "Sia"
          ],
          [
           "Beyoncé"
          ],
          [
           "Pitbull"
          ],
          [
           "Birdy"
          ],
          [
           "Beyoncé"
          ],
          [
           "Nicki Minaj"
          ],
          [
           "Charli XCX"
          ],
          [
           "Shakira"
          ],
          [
           "Birdy"
          ],
          [
           "Birdy"
          ],
          [
           "Mariah Carey"
          ],
          [
           "Lily Allen"
          ],
          [
           "Lea Michele"
          ],
          [
           "Alicia Keys"
          ],
          [
           "Jennifer Lopez"
          ],
          [
           "Justin Timberlake"
          ],
          [
           "Ed Sheeran"
          ],
          [
           "Sam Smith"
          ],
          [
           "The Weeknd"
          ],
          [
           "Justin Bieber"
          ],
          [
           "Mark Ronson"
          ],
          [
           "Hozier"
          ],
          [
           "Maroon 5"
          ],
          [
           "Justin Bieber"
          ],
          [
           "Rihanna"
          ],
          [
           "Ellie Goulding"
          ],
          [
           "The Weeknd"
          ],
          [
           "Justin Bieber"
          ],
          [
           "Shawn Mendes"
          ],
          [
           "Jason Derulo"
          ],
          [
           "Flo Rida"
          ],
          [
           "Mr. Probz"
          ],
          [
           "One Direction"
          ],
          [
           "Calvin Harris"
          ],
          [
           "Zara Larsson"
          ],
          [
           "Ariana Grande"
          ],
          [
           "Maroon 5"
          ],
          [
           "Calvin Harris"
          ],
          [
           "Fifth Harmony"
          ],
          [
           "Ariana Grande"
          ],
          [
           "Ed Sheeran"
          ],
          [
           "Sia"
          ],
          [
           "Clean Bandit"
          ],
          [
           "Adele"
          ],
          [
           "Meghan Trainor"
          ],
          [
           "Beyoncé"
          ],
          [
           "Selena Gomez"
          ],
          [
           "David Guetta"
          ],
          [
           "Christina Aguilera"
          ],
          [
           "Justin Bieber"
          ],
          [
           "Ed Sheeran"
          ],
          [
           "Nick Jonas"
          ],
          [
           "Demi Lovato"
          ],
          [
           "Macklemore & Ryan Lewis"
          ],
          [
           "Paloma Faith"
          ],
          [
           "Kelly Clarkson"
          ],
          [
           "Olly Murs"
          ],
          [
           "Jason Derulo"
          ],
          [
           "Naughty Boy"
          ],
          [
           "Selena Gomez"
          ],
          [
           "Zedd"
          ],
          [
           "Meghan Trainor"
          ],
          [
           "Justin Bieber"
          ],
          [
           "Alessia Cara"
          ],
          [
           "OneRepublic"
          ],
          [
           "Pitbull"
          ],
          [
           "Sigala"
          ],
          [
           "Justin Bieber"
          ],
          [
           "Carly Rae Jepsen"
          ],
          [
           "Fifth Harmony"
          ],
          [
           "Maroon 5"
          ],
          [
           "Ariana Grande"
          ],
          [
           "Meghan Trainor"
          ],
          [
           "Ellie Goulding"
          ],
          [
           "Little Mix"
          ],
          [
           "Avicii"
          ],
          [
           "Jennifer Lopez"
          ],
          [
           "Justin Bieber"
          ],
          [
           "Justin Bieber"
          ],
          [
           "Rudimental"
          ],
          [
           "Rihanna"
          ],
          [
           "Jessie J"
          ],
          [
           "Lost Frequencies"
          ],
          [
           "Sia"
          ],
          [
           "Robin Schulz"
          ],
          [
           "Justin Bieber"
          ],
          [
           "Lilly Wood and The Prick"
          ],
          [
           "Wiz Khalifa"
          ],
          [
           "Alesso"
          ],
          [
           "Jennifer Lopez"
          ],
          [
           "One Direction"
          ],
          [
           "Madonna"
          ],
          [
           "David Guetta"
          ],
          [
           "Ed Sheeran"
          ],
          [
           "Madonna"
          ],
          [
           "Gwen Stefani"
          ],
          [
           "Jess Glynne"
          ],
          [
           "One Direction"
          ],
          [
           "Pitbull"
          ],
          [
           "Alicia Keys"
          ],
          [
           "Florence + The Machine"
          ],
          [
           "David Guetta"
          ],
          [
           "Pitbull"
          ],
          [
           "Hilary Duff"
          ],
          [
           "Ricky Martin"
          ],
          [
           "Katy Perry"
          ],
          [
           "Gwen Stefani"
          ],
          [
           "Kelly Clarkson"
          ],
          [
           "Enrique Iglesias"
          ],
          [
           "Jennifer Hudson"
          ],
          [
           "Fergie"
          ],
          [
           "The Weeknd"
          ],
          [
           "Justin Bieber"
          ],
          [
           "DNCE"
          ],
          [
           "The Chainsmokers"
          ],
          [
           "Martin Garrix"
          ],
          [
           "Ariana Grande"
          ],
          [
           "Calvin Harris"
          ],
          [
           "Lady Gaga"
          ],
          [
           "Rihanna"
          ],
          [
           "Lukas Graham"
          ],
          [
           "Justin Timberlake"
          ],
          [
           "Fifth Harmony"
          ],
          [
           "Alessia Cara"
          ],
          [
           "Meghan Trainor"
          ],
          [
           "Rihanna"
          ],
          [
           "Shawn Mendes"
          ],
          [
           "G-Eazy"
          ],
          [
           "Mike Posner"
          ],
          [
           "Ariana Grande"
          ],
          [
           "Hailee Steinfeld"
          ],
          [
           "Little Mix"
          ],
          [
           "BØRNS"
          ],
          [
           "Demi Lovato"
          ],
          [
           "Drake"
          ],
          [
           "The Chainsmokers"
          ],
          [
           "Major Lazer"
          ],
          [
           "Meghan Trainor"
          ],
          [
           "Major Lazer"
          ],
          [
           "Jennifer Lopez"
          ],
          [
           "Nick Jonas"
          ],
          [
           "DNCE"
          ],
          [
           "The Chainsmokers"
          ],
          [
           "MØ"
          ],
          [
           "Justin Bieber"
          ],
          [
           "Selena Gomez"
          ],
          [
           "Adele"
          ],
          [
           "P!nk"
          ],
          [
           "Meghan Trainor"
          ],
          [
           "Selena Gomez"
          ],
          [
           "Tove Lo"
          ],
          [
           "Naughty Boy"
          ],
          [
           "Alessia Cara"
          ],
          [
           "Lady Gaga"
          ],
          [
           "ZAYN"
          ],
          [
           "Taylor Swift"
          ],
          [
           "Katy Perry"
          ],
          [
           "OneRepublic"
          ],
          [
           "Demi Lovato"
          ],
          [
           "Shawn Mendes"
          ],
          [
           "ZAYN"
          ],
          [
           "Sia"
          ],
          [
           "Bebe Rexha"
          ],
          [
           "Carly Rae Jepsen"
          ],
          [
           "Snakehips"
          ],
          [
           "Adele"
          ],
          [
           "Missy Elliott"
          ],
          [
           "Years & Years"
          ],
          [
           "Adele"
          ],
          [
           "Shawn Mendes"
          ],
          [
           "Florence + The Machine"
          ],
          [
           "Emeli Sandé"
          ],
          [
           "Christina Aguilera"
          ],
          [
           "Britney Spears"
          ],
          [
           "Birdy"
          ],
          [
           "Zedd"
          ],
          [
           "Gwen Stefani"
          ],
          [
           "Nick Jonas"
          ],
          [
           "DNCE"
          ],
          [
           "John Legend"
          ],
          [
           "Missy Elliott"
          ],
          [
           "Carly Rae Jepsen"
          ],
          [
           "Britney Spears"
          ],
          [
           "Charlie Puth"
          ],
          [
           "Passenger"
          ],
          [
           "Hilary Duff"
          ],
          [
           "Britney Spears"
          ],
          [
           "Janet Jackson"
          ],
          [
           "Joey Montana"
          ],
          [
           "Nelly Furtado"
          ],
          [
           "Adele"
          ],
          [
           "Ed Sheeran"
          ],
          [
           "The Chainsmokers"
          ],
          [
           "The Weeknd"
          ],
          [
           "Shawn Mendes"
          ],
          [
           "Bruno Mars"
          ],
          [
           "DJ Snake"
          ],
          [
           "The Weeknd"
          ],
          [
           "Shawn Mendes"
          ],
          [
           "Ariana Grande"
          ],
          [
           "Zedd"
          ],
          [
           "Kygo"
          ],
          [
           "Miley Cyrus"
          ],
          [
           "The Chainsmokers"
          ],
          [
           "Clean Bandit"
          ],
          [
           "ZAYN"
          ],
          [
           "Calvin Harris"
          ],
          [
           "DJ Khaled"
          ],
          [
           "Kesha"
          ],
          [
           "Luis Fonsi"
          ],
          [
           "Sia"
          ],
          [
           "Martin Garrix"
          ],
          [
           "The Chainsmokers"
          ],
          [
           "Camila Cabello"
          ],
          [
           "Jonas Blue"
          ],
          [
           "Calvin Harris"
          ],
          [
           "Katy Perry"
          ],
          [
           "Katy Perry"
          ],
          [
           "Maroon 5"
          ],
          [
           "Lana Del Rey"
          ],
          [
           "CNCO"
          ],
          [
           "Adele"
          ],
          [
           "Kygo"
          ],
          [
           "Lady Gaga"
          ],
          [
           "Alessia Cara"
          ],
          [
           "Cardi B"
          ],
          [
           "OneRepublic"
          ],
          [
           "Alan Walker"
          ],
          [
           "Sigala"
          ],
          [
           "Bruno Mars"
          ],
          [
           "Liam Payne"
          ],
          [
           "Carly Rae Jepsen"
          ],
          [
           "Robin Schulz"
          ],
          [
           "Katy Perry"
          ],
          [
           "Lana Del Rey"
          ],
          [
           "Zedd"
          ],
          [
           "DNCE"
          ],
          [
           "Niall Horan"
          ],
          [
           "Miley Cyrus"
          ],
          [
           "DNCE"
          ],
          [
           "Lost Frequencies"
          ],
          [
           "Fifth Harmony"
          ],
          [
           "Little Mix"
          ],
          [
           "Charlie Puth"
          ],
          [
           "Cashmere Cat"
          ],
          [
           "OneRepublic"
          ],
          [
           "Galantis"
          ],
          [
           "Lana Del Rey"
          ],
          [
           "Pitbull"
          ],
          [
           "Tove Lo"
          ],
          [
           "Nick Jonas"
          ],
          [
           "Pitbull"
          ],
          [
           "Adele"
          ],
          [
           "Sia"
          ],
          [
           "DNCE"
          ],
          [
           "Coldplay"
          ],
          [
           "Calvin Harris"
          ],
          [
           "Camila Cabello"
          ],
          [
           "Cardi B"
          ],
          [
           "Dua Lipa"
          ],
          [
           "Shawn Mendes"
          ],
          [
           "Ariana Grande"
          ],
          [
           "Dua Lipa"
          ],
          [
           "Shawn Mendes"
          ],
          [
           "Selena Gomez"
          ],
          [
           "ZAYN"
          ],
          [
           "Charlie Puth"
          ],
          [
           "Silk City"
          ],
          [
           "Rihanna"
          ],
          [
           "Hailee Steinfeld"
          ],
          [
           "Marshmello"
          ],
          [
           "Demi Lovato"
          ],
          [
           "Lady Gaga"
          ],
          [
           "Rudimental"
          ],
          [
           "Maroon 5"
          ],
          [
           "Bruno Mars"
          ],
          [
           "Ed Sheeran"
          ],
          [
           "Halsey"
          ],
          [
           "G-Eazy"
          ],
          [
           "Justin Bieber"
          ],
          [
           "DJ Khaled"
          ],
          [
           "Troye Sivan"
          ],
          [
           "Hailee Steinfeld"
          ],
          [
           "The Chainsmokers"
          ],
          [
           "Dan + Shay"
          ],
          [
           "Taylor Swift"
          ],
          [
           "Shawn Mendes"
          ],
          [
           "Selena Gomez"
          ],
          [
           "Rita Ora"
          ],
          [
           "Justin Timberlake"
          ],
          [
           "Nicki Minaj"
          ],
          [
           "Harry Styles"
          ],
          [
           "Liam Payne"
          ],
          [
           "ZAYN"
          ],
          [
           "Ansel Elgort"
          ],
          [
           "Shawn Mendes"
          ],
          [
           "Kygo"
          ],
          [
           "Taylor Swift"
          ],
          [
           "J Balvin"
          ],
          [
           "N.E.R.D"
          ],
          [
           "Liam Payne"
          ],
          [
           "Dua Lipa"
          ],
          [
           "Hayley Kiyoko"
          ],
          [
           "Maroon 5"
          ],
          [
           "P!nk"
          ],
          [
           "DNCE"
          ],
          [
           "David Guetta"
          ],
          [
           "Eminem"
          ],
          [
           "Niall Horan"
          ],
          [
           "Rita Ora"
          ],
          [
           "Enrique Iglesias"
          ],
          [
           "Cashmere Cat"
          ],
          [
           "Justin Timberlake"
          ],
          [
           "Camila Cabello"
          ],
          [
           "Bebe Rexha"
          ],
          [
           "Justin Timberlake"
          ],
          [
           "RedOne"
          ],
          [
           "Taylor Swift"
          ],
          [
           "Cardi B"
          ],
          [
           "Demi Lovato"
          ],
          [
           "Maroon 5"
          ],
          [
           "Selena Gomez"
          ],
          [
           "Lewis Capaldi"
          ],
          [
           "Shawn Mendes"
          ],
          [
           "Sam Smith"
          ],
          [
           "Ed Sheeran"
          ],
          [
           "SHAED"
          ],
          [
           "Marshmello"
          ],
          [
           "Lizzo"
          ],
          [
           "Lizzo"
          ],
          [
           "Kygo"
          ],
          [
           "Jonas Brothers"
          ],
          [
           "Ed Sheeran"
          ],
          [
           "Jonas Brothers"
          ],
          [
           "Mabel"
          ],
          [
           "Ed Sheeran"
          ],
          [
           "Khalid"
          ],
          [
           "Calvin Harris"
          ],
          [
           "The Chainsmokers"
          ],
          [
           "R3HAB"
          ],
          [
           "Maroon 5"
          ],
          [
           "The Chainsmokers"
          ],
          [
           "Chris Brown"
          ],
          [
           "Ed Sheeran"
          ],
          [
           "DJ Snake"
          ],
          [
           "Daddy Yankee"
          ],
          [
           "Mark Ronson"
          ],
          [
           "Ed Sheeran"
          ],
          [
           "DJ Khaled"
          ],
          [
           "Mark Ronson"
          ],
          [
           "The Chainsmokers"
          ]
         ],
         "hovertemplate": "<b>%{hovertext}</b><br><br>year=%{x}<br>bpm=%{y}<br>artist=%{customdata[0]}<extra></extra>",
         "hovertext": [
          "Hey, Soul Sister",
          "Love The Way You Lie",
          "TiK ToK",
          "Bad Romance",
          "Just the Way You Are",
          "Baby",
          "Dynamite",
          "Secrets",
          "Empire State of Mind (Part II) Broken Down",
          "Only Girl (In The World)",
          "Club Can't Handle Me (feat. David Guetta)",
          "Marry You",
          "Cooler Than Me - Single Mix",
          "Telephone",
          "Like A G6",
          "OMG (feat. will.i.am)",
          "Eenie Meenie",
          "The Time (Dirty Bit)",
          "Alejandro",
          "Your Love Is My Drug",
          "Meet Me Halfway",
          "Whataya Want from Me",
          "Take It Off",
          "Misery",
          "All The Right Moves",
          "Animal",
          "Naturally",
          "I Like It",
          "Teenage Dream",
          "California Gurls",
          "3",
          "My First Kiss - feat. Ke$ha",
          "Blah Blah Blah (feat. 3OH!3)",
          "Imma Be",
          "Try Sleeping with a Broken Heart",
          "Sexy Bitch (feat. Akon)",
          "Bound To You - Burlesque Original Motion Picture Soundtrack",
          "If I Had You",
          "Rock That Body",
          "Dog Days Are Over",
          "Something's Got A Hold On Me - Burlesque Original Motion Picture Soundtrack",
          "Doesn't Mean Anything",
          "Hard",
          "Loca",
          "You Lost Me",
          "Not Myself Tonight",
          "Written in the Stars (feat. Eric Turner)",
          "DJ Got Us Fallin' In Love (feat. Pitbull)",
          "Castle Walls (feat. Christina Aguilera)",
          "Break Your Heart",
          "Hello",
          "A Thousand Years",
          "Someone Like You",
          "Give Me Everything",
          "Just the Way You Are",
          "Rolling in the Deep",
          "Run the World (Girls)",
          "Moves Like Jagger - Studio Recording From The Voice Performance",
          "Love On Top",
          "Grenade",
          "Tonight Tonight",
          "What the Hell",
          "Born This Way",
          "Monster",
          "Marry You",
          "Best Thing I Never Had",
          "Party Rock Anthem",
          "We R Who We R",
          "Price Tag",
          "Good Life",
          "Just Cant Get Enough",
          "On The Floor",
          "What's My Name?",
          "Yeah 3x",
          "Without You (feat. Usher)",
          "Sexy And I Know It",
          "The Edge Of Glory",
          "E.T.",
          "Till the World Ends",
          "I Wanna Go",
          "Blow",
          "You And I",
          "Judas",
          "Tonight (I'm Fuckin' You)",
          "Please Don't Go",
          "We Found Love",
          "Marry The Night",
          "1+1",
          "Hold It Against Me",
          "I'm Into You",
          "Papi",
          "Cheers (Drink To That)",
          "S&M Remix",
          "Written in the Stars (feat. Eric Turner)",
          "Jar of Hearts",
          "Castle Walls (feat. Christina Aguilera)",
          "Turning Page",
          "Super Bass",
          "Raise Your Glass",
          "Invading My Mind",
          "Moment 4 Life - Album Version (Edited)",
          "Last Friday Night (T.G.I.F.)",
          "Firework",
          "Muny - Album Version (Edited)",
          "Titanium (feat. Sia)",
          "Locked Out of Heaven",
          "Paradise",
          "Payphone",
          "What Makes You Beautiful",
          "I Knew You Were Trouble.",
          "Call Me Maybe",
          "Love You Like A Love Song",
          "Set Fire to the Rain",
          "We Are Never Ever Getting Back Together",
          "Stronger (What Doesn't Kill You)",
          "Try",
          "Starships",
          "One More Night",
          "Good Time",
          "Glad You Came",
          "Beauty And A Beat",
          "International Love",
          "Some Nights",
          "Boyfriend",
          "Part Of Me",
          "Domino",
          "Where Have You Been",
          "Wide Awake",
          "The One That Got Away",
          "Dance Again",
          "Turn Up the Music",
          "Lights - Single Version",
          "We Are Young (feat. Janelle Monáe)",
          "Diamonds",
          "Don't Stop the Party (feat. TJR)",
          "You Da One",
          "Stereo Hearts (feat. Adam Levine)",
          "It Will Rain",
          "Blow Me (One Last Kiss)",
          "Underneath the Tree",
          "Wake Me Up",
          "Story of My Life",
          "Just Give Me a Reason (feat. Nate Ruess)",
          "Hall of Fame",
          "Roar",
          "We Can't Stop",
          "Don't You Worry Child - Radio Edit",
          "Get Lucky (feat. Pharrell Williams & Nile Rodgers) - Radio Edit",
          "Wrecking Ball",
          "Impossible",
          "Blurred Lines",
          "Heart Attack",
          "We Are Never Ever Getting Back Together",
          "Die Young",
          "Clarity",
          "Summertime Sadness (Lana Del Rey Vs. Cedric Gervais) - Cedric Gervais Remix",
          "Under Control",
          "Everybody Talks",
          "Hold On, We're Going Home",
          "Best Song Ever",
          "Kiss You",
          "Sweet Nothing (feat. Florence Welch)",
          "Lose Yourself to Dance",
          "Work Bitch",
          "Brave",
          "Can't Hold Us (feat. Ray Dalton)",
          "Feel This Moment (feat. Christina Aguilera)",
          "Beneath Your Beautiful",
          "Let Me Love You (Until You Learn To Love Yourself)",
          "Thrift Shop (feat. Wanz)",
          "If I Lose Myself - Alesso vs OneRepublic",
          "The Way",
          "Suit & Tie",
          "#thatPOWER",
          "I Love It (feat. Charli XCX)",
          "Play Hard (feat. Ne-Yo & Akon) - New Edit",
          "Daylight",
          "Love Somebody",
          "A Little Party Never Killed Nobody (All We Got)",
          "Move",
          "Walks Like Rihanna",
          "Rock N Roll",
          "Heartbreaker",
          "Mirrors - Radio Edit",
          "Next To Me",
          "Made In The USA",
          "Clown",
          "Girl On Fire (feat. Nicki Minaj) - Inferno Version",
          "TKO",
          "Come & Get It",
          "Live It Up",
          "We Own The Night",
          "Atlas - From The Hunger Games: Catching Fire Soundtrack",
          "What About Love",
          "Take Back the Night",
          "Applause",
          "Anything Could Happen",
          "Finally Found You",
          "Pom Poms",
          "#Beautiful",
          "How Ya Doin'? (feat. Missy Elliott)",
          "Crazy Kids (feat. will.i.am)",
          "Ooh La La (from \"The Smurfs 2\")",
          "People Like Us",
          "Overdose",
          "Right Now - Dyro Radio Edit",
          "Give It 2 U",
          "Foolish Games",
          "Outta Nowhere (feat. Danny Mercer)",
          "Freak",
          "All of Me",
          "Stay With Me",
          "Summer",
          "Happy - From \"Despicable Me 2\"",
          "Rude",
          "Shake It Off",
          "Dark Horse",
          "Hey Brother",
          "Maps",
          "Treasure",
          "Let Her Go",
          "Problem",
          "Pompeii",
          "Team",
          "Love Me Again",
          "Latch",
          "Adore You",
          "Love Never Felt So Good",
          "Burn",
          "She Looks So Perfect",
          "Fancy",
          "Talk Dirty (feat. 2 Chainz)",
          "Gorilla",
          "human",
          "Young Girls",
          "Wiggle (feat. Snoop Dogg)",
          "Love Runs Out",
          "This Is How We Do",
          "Mmm Yeah (feat. Pitbull)",
          "A Little Party Never Killed Nobody (All We Got)",
          "#SELFIE",
          "Partition",
          "Birthday",
          "G.U.Y.",
          "Stay The Night - Featuring Hayley Williams Of Paramore",
          "Let It Go - From \"Frozen / Single Version",
          "Wings",
          "Can't Remember to Forget You (feat. Rihanna)",
          "Shot Me Down (feat. Skylar Grey) - Radio Edit",
          "Say Something",
          "A Sky Full of Stars",
          "Come Get It Bae",
          "Chandelier",
          "XO",
          "We Are One (Ole Ola) [The Official 2014 FIFA World Cup Song]",
          "Not About Angels",
          "Drunk in Love",
          "Anaconda",
          "Boom Clap - From the Motion Picture Das Schicksal ist ein mieser Verräter",
          "La La La (Brasil 2014) (feat. Carlinhos Brown)",
          "Tee Shirt - Soundtrack Version",
          "Words as Weapons",
          "You're Mine (Eternal)",
          "Sheezus",
          "Cannonball",
          "It's On Again - Main Soundtrack",
          "I Luh Ya Papi",
          "Not a Bad Thing",
          "Thinking out Loud",
          "I'm Not The Only One",
          "The Hills",
          "Love Yourself",
          "Uptown Funk",
          "Take Me To Church",
          "Sugar",
          "Sorry",
          "FourFiveSeconds",
          "Love Me Like You Do - From \"Fifty Shades Of Grey\"",
          "Earned It (Fifty Shades Of Grey) - From The \"Fifty Shades Of Grey\" Soundtrack",
          "What Do You Mean?",
          "Stitches",
          "Want to Want Me",
          "My House",
          "Waves - Robin Schulz Radio Edit",
          "Night Changes",
          "How Deep Is Your Love",
          "Never Forget You",
          "Love Me Harder",
          "Animals",
          "Blame",
          "Worth It",
          "Break Free",
          "Don't",
          "Elastic Heart",
          "Rather Be (feat. Jess Glynne)",
          "Hello",
          "Dear Future Husband",
          "43776",
          "The Heart Wants What It Wants",
          "Hey Mama (feat. Nicki Minaj, Bebe Rexha & Afrojack)",
          "Genie In a Bottle",
          "Company",
          "Sing",
          "Jealous - Remix",
          "Really Don't Care",
          "Downtown (feat. Melle Mel, Grandmaster Caz, Kool Moe Dee & Eric Nally)",
          "Only Love Can Hurt Like This",
          "Heartbeat Song",
          "Up",
          "Trumpets",
          "Runnin' (Lose It All)",
          "Same Old Love",
          "I Want You To Know",
          "Lips Are Movin",
          "I'll Show You",
          "Here",
          "I Lived",
          "Fireball (feat. John Ryan)",
          "Easy Love",
          "The Feeling",
          "I Really Like You",
          "BO$$",
          "Sugar",
          "Focus",
          "All About That Bass",
          "On My Mind",
          "Love Me Like You",
          "Broken Arrows",
          "Booty",
          "What Do You Mean? - Acoustic",
          "Mark My Words",
          "Lay It All on Me",
          "American Oxygen",
          "Bang Bang",
          "Reality - Radio Edit",
          "Alive",
          "Sugar (feat. Francesco Yates)",
          "Been You",
          "Prayer in C - Robin Schulz Radio Edit",
          "See You Again (feat. Charlie Puth)",
          "Heroes (we could be)",
          "Feel The Light - From The \"Home\" Soundtrack",
          "Perfect",
          "Ghosttown",
          "Bang My Head (feat. Sia & Fetty Wap)",
          "Bloodstream",
          "Living For Love",
          "Baby Don't Lie",
          "Don't Be so Hard on Yourself",
          "Steal My Girl",
          "Celebrate (From the Original Motion Picture \"Penguins of Madagascar\")",
          "We Are Here",
          "St Jude",
          "Yesterday (feat. Bebe Rexha)",
          "Time of Our Lives",
          "Sparks",
          "Mr. Put It Down",
          "Legendary Lovers",
          "Spark The Fire",
          "Run Run Run",
          "Let Me Be Your Lover",
          "Dangerous",
          "L.A.LOVE (la la)",
          "The Hills",
          "Love Yourself",
          "Cake By The Ocean",
          "Don't Let Me Down",
          "In the Name of Love",
          "Into You",
          "This Is What You Came For",
          "Million Reasons",
          "Needed Me",
          "7 Years",
          "CAN'T STOP THE FEELING! (Original Song from DreamWorks Animation's \"TROLLS\")",
          "Work from Home (feat. Ty Dolla $ign)",
          "Scars To Your Beautiful",
          "Like I'm Gonna Lose You (feat. John Legend)",
          "Work",
          "Stitches",
          "Me, Myself & I",
          "I Took A Pill In Ibiza - Seeb Remix",
          "Dangerous Woman",
          "Starving",
          "Shout Out to My Ex",
          "Electric Love",
          "Confident",
          "Too Good",
          "Roses",
          "Cold Water (feat. Justin Bieber & MØ)",
          "Me Too",
          "Light It Up (feat. Nyla & Fuse ODG) [Remix]",
          "Ain't Your Mama",
          "Close",
          "Toothbrush",
          "All We Know",
          "Final Song",
          "Company",
          "Hands To Myself",
          "All I Ask",
          "Just Like Fire (From the Original Motion Picture \"Alice Through The Looking Glass\")",
          "NO",
          "Kill Em With Kindness",
          "Cool Girl",
          "Runnin' (Lose It All)",
          "Here",
          "Perfect Illusion",
          "PILLOWTALK",
          "Out Of The Woods",
          "Rise",
          "Wherever I Go",
          "Body Say",
          "Don't Be A Fool",
          "LIKE I WOULD",
          "Cheap Thrills",
          "I Got You",
          "Run Away With Me",
          "Cruel (feat. ZAYN)",
          "Send My Love (To Your New Lover)",
          "WTF (Where They From)",
          "Desire",
          "When We Were Young",
          "I Know What You Did Last Summer",
          "Wish That You Were Here - From Miss Peregrines Home for Peculiar Children Original Motion Picture",
          "Hurts",
          "Change",
          "Make Me... (feat. G-Eazy)",
          "Keeping Your Head Up",
          "True Colors",
          "Make Me Like You",
          "Champagne Problems",
          "Blown",
          "Start",
          "Pep Rally",
          "Higher",
          "Invitation",
          "One Call Away (feat. Tyga) - Remix",
          "Beautiful Birds (feat. Birdy)",
          "Little Lies",
          "Do You Wanna Come Over?",
          "BURNITUP!",
          "Picky - Remix",
          "Behind Your Back",
          "Million Years Ago",
          "Shape of You",
          "Closer",
          "Starboy",
          "Treat You Better",
          "That's What I Like",
          "Let Me Love You",
          "I Feel It Coming",
          "Mercy",
          "Side To Side",
          "Stay",
          "It Ain't Me (with Selena Gomez)",
          "Malibu",
          "Something Just Like This",
          "Rockabye (feat. Sean Paul & Anne-Marie)",
          "I Dont Wanna Live Forever (Fifty Shades Darker)",
          "My Way",
          "I'm the One (feat. Justin Bieber, Quavo, Chance the Rapper & Lil Wayne)",
          "Praying",
          "Despacito - Remix",
          "The Greatest",
          "There for You",
          "Paris",
          "Crying in the Club",
          "Mama",
          "Slide (feat. Frank Ocean & Migos)",
          "Swish Swish",
          "Chained To The Rhythm",
          "Cold (feat. Future)",
          "Love",
          "Reggaetón Lento (Remix)",
          "All I Ask",
          "First Time",
          "The Cure",
          "How Far I'll Go - From \"Moana\"",
          "Bodak Yellow",
          "Rich Love (with Seeb)",
          "Tired",
          "Came Here for Love",
          "24K Magic",
          "Strip That Down (feat. Quavo)",
          "Cut To The Feeling",
          "OK - Spotify Version",
          "Bon appétit",
          "Summer Bummer (feat. A$AP Rocky & Playboi Carti)",
          "Get Low (with Liam Payne)",
          "Kissing Strangers",
          "Slow Hands",
          "Younger Now",
          "Body Moves",
          "Reality (feat. Janieck Devy) - Radio Edit",
          "Angel",
          "Touch (feat. Kid Ink)",
          "We Don't Talk Anymore - DROELOE Remix",
          "Love Incredible (feat. Camila Cabello)",
          "No Vacancy (with Sebastián Yatra)",
          "Rich Boy",
          "Lust for Life (with The Weeknd)",
          "Greenlight (feat. Flo Rida & LunchMoney Lewis)",
          "Influence",
          "Remember I Told You",
          "Messin' Around",
          "Water Under the Bridge",
          "Free Me",
          "Kissing Strangers - Remix",
          "A L I E N S",
          "One Kiss (with Dua Lipa)",
          "Havana (feat. Young Thug)",
          "I Like It",
          "New Rules",
          "There's Nothing Holdin' Me Back",
          "no tears left to cry",
          "IDGAF",
          "In My Blood",
          "Wolves",
          "Dusk Till Dawn - Radio Edit",
          "Attention",
          "Electricity (with Dua Lipa)",
          "Love On The Brain",
          "Let Me Go (with Alesso, Florida Georgia Line & watt)",
          "Silence",
          "Sorry Not Sorry",
          "Shallow - Radio Edit",
          "These Days",
          "What Lovers Do (feat. SZA)",
          "Finesse - Remix; feat. Cardi B",
          "Perfect Duet (Ed Sheeran & Beyoncé)",
          "Bad At Love",
          "Him & I (with Halsey)",
          "Friends (with BloodPop®)",
          "Wild Thoughts (feat. Rihanna & Bryson Tiller)",
          "My My My!",
          "Capital Letters",
          "Sick Boy",
          "Tequila",
          "Look What You Made Me Do",
          "Youth (feat. Khalid)",
          "Bad Liar",
          "Anywhere",
          "Say Something",
          "Chun-Li",
          "Sign of the Times",
          "Familiar",
          "Let Me",
          "Supernova",
          "Nervous",
          "First Time",
          "End Game",
          "Mi Gente (feat. Beyoncé)",
          "Lemon",
          "For You (With Rita Ora)",
          "Want To",
          "What I Need (feat. Kehlani)",
          "Wait",
          "What About Us",
          "Kissing Strangers",
          "2U (feat. Justin Bieber)",
          "Walk On Water (feat. Beyoncé)",
          "This Town",
          "Girls (feat. Cardi B, Bebe Rexha & Charli XCX)",
          "MOVE TO MIAMI",
          "Miss You (with Major Lazer & Tory Lanez)",
          "Filthy",
          "Never Be the Same - Radio Edit",
          "Ferrari",
          "Supplies",
          "Boom Boom",
          "...Ready For It? - BloodPop® Remix",
          "Drip (feat. Migos)",
          "Tell Me You Love Me - NOTD Remix",
          "Memories",
          "Lose You To Love Me",
          "Someone You Loved",
          "Señorita",
          "How Do You Sleep?",
          "South of the Border (feat. Camila Cabello & Cardi B)",
          "Trampoline (with ZAYN)",
          "Happier",
          "Truth Hurts",
          "Good as Hell (feat. Ariana Grande) - Remix",
          "Higher Love",
          "Only Human",
          "Beautiful People (feat. Khalid)",
          "Sucker",
          "Don't Call Me Up",
          "I Don't Care (with Justin Bieber)",
          "Talk (feat. Disclosure)",
          "Giant (with Rag'n'Bone Man)",
          "Takeaway",
          "All Around The World (La La La)",
          "Girls Like You (feat. Cardi B)",
          "Call You Mine",
          "No Guidance (feat. Drake)",
          "Antisocial (with Travis Scott)",
          "Taki Taki (feat. Selena Gomez, Ozuna & Cardi B)",
          "Con Calma - Remix",
          "Find U Again (feat. Camila Cabello)",
          "Cross Me (feat. Chance the Rapper & PnB Rock)",
          "No Brainer (feat. Justin Bieber, Chance the Rapper & Quavo)",
          "Nothing Breaks Like a Heart (feat. Miley Cyrus)",
          "Kills You Slowly"
         ],
         "legendgroup": "",
         "marker": {
          "color": "#636efa",
          "symbol": "circle"
         },
         "mode": "markers",
         "name": "",
         "orientation": "v",
         "showlegend": false,
         "type": "scatter",
         "x": [
          2010,
          2010,
          2010,
          2010,
          2010,
          2010,
          2010,
          2010,
          2010,
          2010,
          2010,
          2010,
          2010,
          2010,
          2010,
          2010,
          2010,
          2010,
          2010,
          2010,
          2010,
          2010,
          2010,
          2010,
          2010,
          2010,
          2010,
          2010,
          2010,
          2010,
          2010,
          2010,
          2010,
          2010,
          2010,
          2010,
          2010,
          2010,
          2010,
          2010,
          2010,
          2010,
          2010,
          2010,
          2010,
          2010,
          2010,
          2010,
          2010,
          2010,
          2010,
          2011,
          2011,
          2011,
          2011,
          2011,
          2011,
          2011,
          2011,
          2011,
          2011,
          2011,
          2011,
          2011,
          2011,
          2011,
          2011,
          2011,
          2011,
          2011,
          2011,
          2011,
          2011,
          2011,
          2011,
          2011,
          2011,
          2011,
          2011,
          2011,
          2011,
          2011,
          2011,
          2011,
          2011,
          2011,
          2011,
          2011,
          2011,
          2011,
          2011,
          2011,
          2011,
          2011,
          2011,
          2011,
          2011,
          2011,
          2011,
          2011,
          2011,
          2011,
          2011,
          2011,
          2012,
          2012,
          2012,
          2012,
          2012,
          2012,
          2012,
          2012,
          2012,
          2012,
          2012,
          2012,
          2012,
          2012,
          2012,
          2012,
          2012,
          2012,
          2012,
          2012,
          2012,
          2012,
          2012,
          2012,
          2012,
          2012,
          2012,
          2012,
          2012,
          2012,
          2012,
          2012,
          2012,
          2012,
          2012,
          2013,
          2013,
          2013,
          2013,
          2013,
          2013,
          2013,
          2013,
          2013,
          2013,
          2013,
          2013,
          2013,
          2013,
          2013,
          2013,
          2013,
          2013,
          2013,
          2013,
          2013,
          2013,
          2013,
          2013,
          2013,
          2013,
          2013,
          2013,
          2013,
          2013,
          2013,
          2013,
          2013,
          2013,
          2013,
          2013,
          2013,
          2013,
          2013,
          2013,
          2013,
          2013,
          2013,
          2013,
          2013,
          2013,
          2013,
          2013,
          2013,
          2013,
          2013,
          2013,
          2013,
          2013,
          2013,
          2013,
          2013,
          2013,
          2013,
          2013,
          2013,
          2013,
          2013,
          2013,
          2013,
          2013,
          2013,
          2013,
          2013,
          2013,
          2013,
          2014,
          2014,
          2014,
          2014,
          2014,
          2014,
          2014,
          2014,
          2014,
          2014,
          2014,
          2014,
          2014,
          2014,
          2014,
          2014,
          2014,
          2014,
          2014,
          2014,
          2014,
          2014,
          2014,
          2014,
          2014,
          2014,
          2014,
          2014,
          2014,
          2014,
          2014,
          2014,
          2014,
          2014,
          2014,
          2014,
          2014,
          2014,
          2014,
          2014,
          2014,
          2014,
          2014,
          2014,
          2014,
          2014,
          2014,
          2014,
          2014,
          2014,
          2014,
          2014,
          2014,
          2014,
          2014,
          2014,
          2014,
          2014,
          2015,
          2015,
          2015,
          2015,
          2015,
          2015,
          2015,
          2015,
          2015,
          2015,
          2015,
          2015,
          2015,
          2015,
          2015,
          2015,
          2015,
          2015,
          2015,
          2015,
          2015,
          2015,
          2015,
          2015,
          2015,
          2015,
          2015,
          2015,
          2015,
          2015,
          2015,
          2015,
          2015,
          2015,
          2015,
          2015,
          2015,
          2015,
          2015,
          2015,
          2015,
          2015,
          2015,
          2015,
          2015,
          2015,
          2015,
          2015,
          2015,
          2015,
          2015,
          2015,
          2015,
          2015,
          2015,
          2015,
          2015,
          2015,
          2015,
          2015,
          2015,
          2015,
          2015,
          2015,
          2015,
          2015,
          2015,
          2015,
          2015,
          2015,
          2015,
          2015,
          2015,
          2015,
          2015,
          2015,
          2015,
          2015,
          2015,
          2015,
          2015,
          2015,
          2015,
          2015,
          2015,
          2015,
          2015,
          2015,
          2015,
          2015,
          2015,
          2015,
          2015,
          2015,
          2015,
          2016,
          2016,
          2016,
          2016,
          2016,
          2016,
          2016,
          2016,
          2016,
          2016,
          2016,
          2016,
          2016,
          2016,
          2016,
          2016,
          2016,
          2016,
          2016,
          2016,
          2016,
          2016,
          2016,
          2016,
          2016,
          2016,
          2016,
          2016,
          2016,
          2016,
          2016,
          2016,
          2016,
          2016,
          2016,
          2016,
          2016,
          2016,
          2016,
          2016,
          2016,
          2016,
          2016,
          2016,
          2016,
          2016,
          2016,
          2016,
          2016,
          2016,
          2016,
          2016,
          2016,
          2016,
          2016,
          2016,
          2016,
          2016,
          2016,
          2016,
          2016,
          2016,
          2016,
          2016,
          2016,
          2016,
          2016,
          2016,
          2016,
          2016,
          2016,
          2016,
          2016,
          2016,
          2016,
          2016,
          2016,
          2016,
          2016,
          2016,
          2017,
          2017,
          2017,
          2017,
          2017,
          2017,
          2017,
          2017,
          2017,
          2017,
          2017,
          2017,
          2017,
          2017,
          2017,
          2017,
          2017,
          2017,
          2017,
          2017,
          2017,
          2017,
          2017,
          2017,
          2017,
          2017,
          2017,
          2017,
          2017,
          2017,
          2017,
          2017,
          2017,
          2017,
          2017,
          2017,
          2017,
          2017,
          2017,
          2017,
          2017,
          2017,
          2017,
          2017,
          2017,
          2017,
          2017,
          2017,
          2017,
          2017,
          2017,
          2017,
          2017,
          2017,
          2017,
          2017,
          2017,
          2017,
          2017,
          2017,
          2017,
          2017,
          2017,
          2017,
          2017,
          2018,
          2018,
          2018,
          2018,
          2018,
          2018,
          2018,
          2018,
          2018,
          2018,
          2018,
          2018,
          2018,
          2018,
          2018,
          2018,
          2018,
          2018,
          2018,
          2018,
          2018,
          2018,
          2018,
          2018,
          2018,
          2018,
          2018,
          2018,
          2018,
          2018,
          2018,
          2018,
          2018,
          2018,
          2018,
          2018,
          2018,
          2018,
          2018,
          2018,
          2018,
          2018,
          2018,
          2018,
          2018,
          2018,
          2018,
          2018,
          2018,
          2018,
          2018,
          2018,
          2018,
          2018,
          2018,
          2018,
          2018,
          2018,
          2018,
          2018,
          2018,
          2018,
          2018,
          2018,
          2019,
          2019,
          2019,
          2019,
          2019,
          2019,
          2019,
          2019,
          2019,
          2019,
          2019,
          2019,
          2019,
          2019,
          2019,
          2019,
          2019,
          2019,
          2019,
          2019,
          2019,
          2019,
          2019,
          2019,
          2019,
          2019,
          2019,
          2019,
          2019,
          2019,
          2019
         ],
         "xaxis": "x",
         "y": [
          97,
          87,
          120,
          119,
          109,
          65,
          120,
          148,
          93,
          126,
          128,
          145,
          130,
          122,
          125,
          130,
          121,
          128,
          99,
          120,
          130,
          186,
          125,
          103,
          146,
          148,
          133,
          129,
          120,
          125,
          135,
          138,
          120,
          92,
          111,
          130,
          164,
          131,
          125,
          150,
          150,
          104,
          182,
          112,
          43,
          120,
          91,
          120,
          80,
          122,
          128,
          139,
          135,
          129,
          109,
          105,
          127,
          128,
          94,
          110,
          100,
          150,
          124,
          125,
          145,
          99,
          130,
          120,
          175,
          95,
          94,
          130,
          100,
          130,
          128,
          130,
          128,
          152,
          132,
          130,
          120,
          127,
          131,
          126,
          120,
          128,
          131,
          63,
          133,
          84,
          120,
          80,
          128,
          91,
          75,
          80,
          125,
          127,
          122,
          129,
          130,
          126,
          124,
          98,
          126,
          144,
          140,
          110,
          125,
          77,
          120,
          117,
          108,
          86,
          116,
          104,
          125,
          93,
          126,
          127,
          128,
          120,
          108,
          97,
          130,
          127,
          128,
          160,
          134,
          128,
          130,
          120,
          184,
          92,
          127,
          127,
          90,
          150,
          114,
          160,
          124,
          121,
          95,
          85,
          180,
          80,
          129,
          116,
          120,
          170,
          120,
          174,
          86,
          128,
          128,
          126,
          126,
          155,
          100,
          118,
          90,
          128,
          100,
          128,
          185,
          146,
          136,
          84,
          125,
          95,
          126,
          82,
          102,
          128,
          126,
          130,
          120,
          120,
          130,
          121,
          126,
          184,
          105,
          77,
          95,
          87,
          130,
          93,
          138,
          80,
          128,
          104,
          136,
          100,
          107,
          140,
          103,
          128,
          148,
          107,
          201,
          128,
          128,
          128,
          107,
          130,
          127,
          132,
          95,
          104,
          120,
          84,
          128,
          160,
          144,
          160,
          132,
          125,
          120,
          116,
          75,
          103,
          127,
          100,
          126,
          122,
          120,
          118,
          87,
          160,
          95,
          100,
          140,
          144,
          126,
          82,
          120,
          96,
          126,
          130,
          128,
          186,
          126,
          110,
          128,
          140,
          83,
          138,
          192,
          138,
          125,
          120,
          174,
          170,
          125,
          116,
          140,
          130,
          92,
          128,
          76,
          120,
          149,
          130,
          92,
          110,
          96,
          86,
          79,
          82,
          113,
          100,
          115,
          129,
          120,
          100,
          206,
          190,
          120,
          125,
          150,
          114,
          94,
          120,
          120,
          122,
          146,
          99,
          190,
          128,
          100,
          130,
          95,
          130,
          121,
          158,
          79,
          136,
          83,
          86,
          176,
          95,
          120,
          93,
          121,
          110,
          91,
          149,
          115,
          82,
          139,
          98,
          130,
          139,
          192,
          120,
          120,
          123,
          124,
          127,
          122,
          103,
          120,
          100,
          134,
          155,
          106,
          116,
          129,
          125,
          114,
          123,
          78,
          150,
          122,
          100,
          123,
          113,
          123,
          80,
          126,
          156,
          100,
          79,
          108,
          89,
          123,
          100,
          120,
          77,
          127,
          93,
          117,
          128,
          124,
          122,
          128,
          126,
          120,
          112,
          112,
          109,
          202,
          113,
          100,
          119,
          160,
          134,
          108,
          124,
          130,
          111,
          120,
          113,
          105,
          97,
          108,
          92,
          150,
          112,
          102,
          134,
          100,
          126,
          120,
          130,
          118,
          100,
          93,
          124,
          108,
          120,
          124,
          105,
          90,
          105,
          95,
          111,
          142,
          163,
          92,
          120,
          102,
          139,
          120,
          125,
          125,
          92,
          101,
          100,
          87,
          175,
          113,
          90,
          98,
          119,
          110,
          164,
          120,
          126,
          144,
          114,
          94,
          106,
          82,
          123,
          122,
          126,
          118,
          108,
          130,
          110,
          90,
          114,
          112,
          91,
          86,
          124,
          121,
          123,
          186,
          98,
          0,
          96,
          95,
          186,
          83,
          134,
          100,
          93,
          148,
          159,
          102,
          100,
          140,
          103,
          102,
          118,
          120,
          81,
          73,
          178,
          192,
          106,
          100,
          85,
          104,
          104,
          120,
          190,
          100,
          99,
          94,
          142,
          90,
          100,
          181,
          125,
          105,
          124,
          125,
          107,
          106,
          115,
          122,
          106,
          135,
          108,
          120,
          86,
          122,
          102,
          122,
          124,
          102,
          100,
          167,
          100,
          110,
          100,
          115,
          105,
          113,
          158,
          95,
          87,
          120,
          148,
          124,
          105,
          136,
          116,
          122,
          122,
          97,
          140,
          125,
          180,
          100,
          118,
          172,
          103,
          142,
          144,
          96,
          92,
          110,
          105,
          95,
          118,
          88,
          105,
          98,
          103,
          100,
          90,
          86,
          128,
          100,
          121,
          107,
          97,
          129,
          120,
          93,
          168,
          140,
          122,
          90,
          159,
          105,
          95,
          113,
          92,
          104,
          126,
          114,
          120,
          145,
          82,
          112,
          94,
          100,
          100,
          97,
          130,
          77,
          120,
          110,
          160,
          130,
          102,
          91,
          102,
          110,
          117,
          111,
          98,
          127,
          100,
          158,
          96,
          104,
          94,
          93,
          138,
          99,
          102,
          136,
          122,
          100,
          125,
          125,
          104,
          93,
          152,
          96,
          94,
          104,
          95,
          136,
          114,
          150
         ],
         "yaxis": "y"
        }
       ],
       "layout": {
        "autosize": true,
        "legend": {
         "tracegroupgap": 0
        },
        "margin": {
         "t": 60
        },
        "template": {
         "data": {
          "bar": [
           {
            "error_x": {
             "color": "#2a3f5f"
            },
            "error_y": {
             "color": "#2a3f5f"
            },
            "marker": {
             "line": {
              "color": "#E5ECF6",
              "width": 0.5
             },
             "pattern": {
              "fillmode": "overlay",
              "size": 10,
              "solidity": 0.2
             }
            },
            "type": "bar"
           }
          ],
          "barpolar": [
           {
            "marker": {
             "line": {
              "color": "#E5ECF6",
              "width": 0.5
             },
             "pattern": {
              "fillmode": "overlay",
              "size": 10,
              "solidity": 0.2
             }
            },
            "type": "barpolar"
           }
          ],
          "carpet": [
           {
            "aaxis": {
             "endlinecolor": "#2a3f5f",
             "gridcolor": "white",
             "linecolor": "white",
             "minorgridcolor": "white",
             "startlinecolor": "#2a3f5f"
            },
            "baxis": {
             "endlinecolor": "#2a3f5f",
             "gridcolor": "white",
             "linecolor": "white",
             "minorgridcolor": "white",
             "startlinecolor": "#2a3f5f"
            },
            "type": "carpet"
           }
          ],
          "choropleth": [
           {
            "colorbar": {
             "outlinewidth": 0,
             "ticks": ""
            },
            "type": "choropleth"
           }
          ],
          "contour": [
           {
            "colorbar": {
             "outlinewidth": 0,
             "ticks": ""
            },
            "colorscale": [
             [
              0,
              "#0d0887"
             ],
             [
              0.1111111111111111,
              "#46039f"
             ],
             [
              0.2222222222222222,
              "#7201a8"
             ],
             [
              0.3333333333333333,
              "#9c179e"
             ],
             [
              0.4444444444444444,
              "#bd3786"
             ],
             [
              0.5555555555555556,
              "#d8576b"
             ],
             [
              0.6666666666666666,
              "#ed7953"
             ],
             [
              0.7777777777777778,
              "#fb9f3a"
             ],
             [
              0.8888888888888888,
              "#fdca26"
             ],
             [
              1,
              "#f0f921"
             ]
            ],
            "type": "contour"
           }
          ],
          "contourcarpet": [
           {
            "colorbar": {
             "outlinewidth": 0,
             "ticks": ""
            },
            "type": "contourcarpet"
           }
          ],
          "heatmap": [
           {
            "colorbar": {
             "outlinewidth": 0,
             "ticks": ""
            },
            "colorscale": [
             [
              0,
              "#0d0887"
             ],
             [
              0.1111111111111111,
              "#46039f"
             ],
             [
              0.2222222222222222,
              "#7201a8"
             ],
             [
              0.3333333333333333,
              "#9c179e"
             ],
             [
              0.4444444444444444,
              "#bd3786"
             ],
             [
              0.5555555555555556,
              "#d8576b"
             ],
             [
              0.6666666666666666,
              "#ed7953"
             ],
             [
              0.7777777777777778,
              "#fb9f3a"
             ],
             [
              0.8888888888888888,
              "#fdca26"
             ],
             [
              1,
              "#f0f921"
             ]
            ],
            "type": "heatmap"
           }
          ],
          "heatmapgl": [
           {
            "colorbar": {
             "outlinewidth": 0,
             "ticks": ""
            },
            "colorscale": [
             [
              0,
              "#0d0887"
             ],
             [
              0.1111111111111111,
              "#46039f"
             ],
             [
              0.2222222222222222,
              "#7201a8"
             ],
             [
              0.3333333333333333,
              "#9c179e"
             ],
             [
              0.4444444444444444,
              "#bd3786"
             ],
             [
              0.5555555555555556,
              "#d8576b"
             ],
             [
              0.6666666666666666,
              "#ed7953"
             ],
             [
              0.7777777777777778,
              "#fb9f3a"
             ],
             [
              0.8888888888888888,
              "#fdca26"
             ],
             [
              1,
              "#f0f921"
             ]
            ],
            "type": "heatmapgl"
           }
          ],
          "histogram": [
           {
            "marker": {
             "pattern": {
              "fillmode": "overlay",
              "size": 10,
              "solidity": 0.2
             }
            },
            "type": "histogram"
           }
          ],
          "histogram2d": [
           {
            "colorbar": {
             "outlinewidth": 0,
             "ticks": ""
            },
            "colorscale": [
             [
              0,
              "#0d0887"
             ],
             [
              0.1111111111111111,
              "#46039f"
             ],
             [
              0.2222222222222222,
              "#7201a8"
             ],
             [
              0.3333333333333333,
              "#9c179e"
             ],
             [
              0.4444444444444444,
              "#bd3786"
             ],
             [
              0.5555555555555556,
              "#d8576b"
             ],
             [
              0.6666666666666666,
              "#ed7953"
             ],
             [
              0.7777777777777778,
              "#fb9f3a"
             ],
             [
              0.8888888888888888,
              "#fdca26"
             ],
             [
              1,
              "#f0f921"
             ]
            ],
            "type": "histogram2d"
           }
          ],
          "histogram2dcontour": [
           {
            "colorbar": {
             "outlinewidth": 0,
             "ticks": ""
            },
            "colorscale": [
             [
              0,
              "#0d0887"
             ],
             [
              0.1111111111111111,
              "#46039f"
             ],
             [
              0.2222222222222222,
              "#7201a8"
             ],
             [
              0.3333333333333333,
              "#9c179e"
             ],
             [
              0.4444444444444444,
              "#bd3786"
             ],
             [
              0.5555555555555556,
              "#d8576b"
             ],
             [
              0.6666666666666666,
              "#ed7953"
             ],
             [
              0.7777777777777778,
              "#fb9f3a"
             ],
             [
              0.8888888888888888,
              "#fdca26"
             ],
             [
              1,
              "#f0f921"
             ]
            ],
            "type": "histogram2dcontour"
           }
          ],
          "mesh3d": [
           {
            "colorbar": {
             "outlinewidth": 0,
             "ticks": ""
            },
            "type": "mesh3d"
           }
          ],
          "parcoords": [
           {
            "line": {
             "colorbar": {
              "outlinewidth": 0,
              "ticks": ""
             }
            },
            "type": "parcoords"
           }
          ],
          "pie": [
           {
            "automargin": true,
            "type": "pie"
           }
          ],
          "scatter": [
           {
            "fillpattern": {
             "fillmode": "overlay",
             "size": 10,
             "solidity": 0.2
            },
            "type": "scatter"
           }
          ],
          "scatter3d": [
           {
            "line": {
             "colorbar": {
              "outlinewidth": 0,
              "ticks": ""
             }
            },
            "marker": {
             "colorbar": {
              "outlinewidth": 0,
              "ticks": ""
             }
            },
            "type": "scatter3d"
           }
          ],
          "scattercarpet": [
           {
            "marker": {
             "colorbar": {
              "outlinewidth": 0,
              "ticks": ""
             }
            },
            "type": "scattercarpet"
           }
          ],
          "scattergeo": [
           {
            "marker": {
             "colorbar": {
              "outlinewidth": 0,
              "ticks": ""
             }
            },
            "type": "scattergeo"
           }
          ],
          "scattergl": [
           {
            "marker": {
             "colorbar": {
              "outlinewidth": 0,
              "ticks": ""
             }
            },
            "type": "scattergl"
           }
          ],
          "scattermapbox": [
           {
            "marker": {
             "colorbar": {
              "outlinewidth": 0,
              "ticks": ""
             }
            },
            "type": "scattermapbox"
           }
          ],
          "scatterpolar": [
           {
            "marker": {
             "colorbar": {
              "outlinewidth": 0,
              "ticks": ""
             }
            },
            "type": "scatterpolar"
           }
          ],
          "scatterpolargl": [
           {
            "marker": {
             "colorbar": {
              "outlinewidth": 0,
              "ticks": ""
             }
            },
            "type": "scatterpolargl"
           }
          ],
          "scatterternary": [
           {
            "marker": {
             "colorbar": {
              "outlinewidth": 0,
              "ticks": ""
             }
            },
            "type": "scatterternary"
           }
          ],
          "surface": [
           {
            "colorbar": {
             "outlinewidth": 0,
             "ticks": ""
            },
            "colorscale": [
             [
              0,
              "#0d0887"
             ],
             [
              0.1111111111111111,
              "#46039f"
             ],
             [
              0.2222222222222222,
              "#7201a8"
             ],
             [
              0.3333333333333333,
              "#9c179e"
             ],
             [
              0.4444444444444444,
              "#bd3786"
             ],
             [
              0.5555555555555556,
              "#d8576b"
             ],
             [
              0.6666666666666666,
              "#ed7953"
             ],
             [
              0.7777777777777778,
              "#fb9f3a"
             ],
             [
              0.8888888888888888,
              "#fdca26"
             ],
             [
              1,
              "#f0f921"
             ]
            ],
            "type": "surface"
           }
          ],
          "table": [
           {
            "cells": {
             "fill": {
              "color": "#EBF0F8"
             },
             "line": {
              "color": "white"
             }
            },
            "header": {
             "fill": {
              "color": "#C8D4E3"
             },
             "line": {
              "color": "white"
             }
            },
            "type": "table"
           }
          ]
         },
         "layout": {
          "annotationdefaults": {
           "arrowcolor": "#2a3f5f",
           "arrowhead": 0,
           "arrowwidth": 1
          },
          "autotypenumbers": "strict",
          "coloraxis": {
           "colorbar": {
            "outlinewidth": 0,
            "ticks": ""
           }
          },
          "colorscale": {
           "diverging": [
            [
             0,
             "#8e0152"
            ],
            [
             0.1,
             "#c51b7d"
            ],
            [
             0.2,
             "#de77ae"
            ],
            [
             0.3,
             "#f1b6da"
            ],
            [
             0.4,
             "#fde0ef"
            ],
            [
             0.5,
             "#f7f7f7"
            ],
            [
             0.6,
             "#e6f5d0"
            ],
            [
             0.7,
             "#b8e186"
            ],
            [
             0.8,
             "#7fbc41"
            ],
            [
             0.9,
             "#4d9221"
            ],
            [
             1,
             "#276419"
            ]
           ],
           "sequential": [
            [
             0,
             "#0d0887"
            ],
            [
             0.1111111111111111,
             "#46039f"
            ],
            [
             0.2222222222222222,
             "#7201a8"
            ],
            [
             0.3333333333333333,
             "#9c179e"
            ],
            [
             0.4444444444444444,
             "#bd3786"
            ],
            [
             0.5555555555555556,
             "#d8576b"
            ],
            [
             0.6666666666666666,
             "#ed7953"
            ],
            [
             0.7777777777777778,
             "#fb9f3a"
            ],
            [
             0.8888888888888888,
             "#fdca26"
            ],
            [
             1,
             "#f0f921"
            ]
           ],
           "sequentialminus": [
            [
             0,
             "#0d0887"
            ],
            [
             0.1111111111111111,
             "#46039f"
            ],
            [
             0.2222222222222222,
             "#7201a8"
            ],
            [
             0.3333333333333333,
             "#9c179e"
            ],
            [
             0.4444444444444444,
             "#bd3786"
            ],
            [
             0.5555555555555556,
             "#d8576b"
            ],
            [
             0.6666666666666666,
             "#ed7953"
            ],
            [
             0.7777777777777778,
             "#fb9f3a"
            ],
            [
             0.8888888888888888,
             "#fdca26"
            ],
            [
             1,
             "#f0f921"
            ]
           ]
          },
          "colorway": [
           "#636efa",
           "#EF553B",
           "#00cc96",
           "#ab63fa",
           "#FFA15A",
           "#19d3f3",
           "#FF6692",
           "#B6E880",
           "#FF97FF",
           "#FECB52"
          ],
          "font": {
           "color": "#2a3f5f"
          },
          "geo": {
           "bgcolor": "white",
           "lakecolor": "white",
           "landcolor": "#E5ECF6",
           "showlakes": true,
           "showland": true,
           "subunitcolor": "white"
          },
          "hoverlabel": {
           "align": "left"
          },
          "hovermode": "closest",
          "mapbox": {
           "style": "light"
          },
          "paper_bgcolor": "white",
          "plot_bgcolor": "#E5ECF6",
          "polar": {
           "angularaxis": {
            "gridcolor": "white",
            "linecolor": "white",
            "ticks": ""
           },
           "bgcolor": "#E5ECF6",
           "radialaxis": {
            "gridcolor": "white",
            "linecolor": "white",
            "ticks": ""
           }
          },
          "scene": {
           "xaxis": {
            "backgroundcolor": "#E5ECF6",
            "gridcolor": "white",
            "gridwidth": 2,
            "linecolor": "white",
            "showbackground": true,
            "ticks": "",
            "zerolinecolor": "white"
           },
           "yaxis": {
            "backgroundcolor": "#E5ECF6",
            "gridcolor": "white",
            "gridwidth": 2,
            "linecolor": "white",
            "showbackground": true,
            "ticks": "",
            "zerolinecolor": "white"
           },
           "zaxis": {
            "backgroundcolor": "#E5ECF6",
            "gridcolor": "white",
            "gridwidth": 2,
            "linecolor": "white",
            "showbackground": true,
            "ticks": "",
            "zerolinecolor": "white"
           }
          },
          "shapedefaults": {
           "line": {
            "color": "#2a3f5f"
           }
          },
          "ternary": {
           "aaxis": {
            "gridcolor": "white",
            "linecolor": "white",
            "ticks": ""
           },
           "baxis": {
            "gridcolor": "white",
            "linecolor": "white",
            "ticks": ""
           },
           "bgcolor": "#E5ECF6",
           "caxis": {
            "gridcolor": "white",
            "linecolor": "white",
            "ticks": ""
           }
          },
          "title": {
           "x": 0.05
          },
          "xaxis": {
           "automargin": true,
           "gridcolor": "white",
           "linecolor": "white",
           "ticks": "",
           "title": {
            "standoff": 15
           },
           "zerolinecolor": "white",
           "zerolinewidth": 2
          },
          "yaxis": {
           "automargin": true,
           "gridcolor": "white",
           "linecolor": "white",
           "ticks": "",
           "title": {
            "standoff": 15
           },
           "zerolinecolor": "white",
           "zerolinewidth": 2
          }
         }
        },
        "xaxis": {
         "anchor": "y",
         "autorange": true,
         "domain": [
          0,
          1
         ],
         "range": [
          2009.456124956125,
          2019.543875043875
         ],
         "title": {
          "text": "year"
         },
         "type": "linear"
        },
        "yaxis": {
         "anchor": "x",
         "autorange": true,
         "domain": [
          0,
          1
         ],
         "range": [
          -15.9501312335958,
          221.9501312335958
         ],
         "title": {
          "text": "bpm"
         },
         "type": "linear"
        }
       }
      },
      "image/png": "[encoded data removed]",
      "text/html": [
       "<div>                            <div id=\"57c7211b-78ee-4ea3-862a-320fc96ae046\" class=\"plotly-graph-div\" style=\"height:525px; width:100%;\"></div>            <script type=\"text/javascript\">                require([\"plotly\"], function(Plotly) {                    window.PLOTLYENV=window.PLOTLYENV || {};                                    if (document.getElementById(\"57c7211b-78ee-4ea3-862a-320fc96ae046\")) {                    Plotly.newPlot(                        \"57c7211b-78ee-4ea3-862a-320fc96ae046\",                        [{\"customdata\":[[\"Train\"],[\"Eminem\"],[\"Kesha\"],[\"Lady Gaga\"],[\"Bruno Mars\"],[\"Justin Bieber\"],[\"Taio Cruz\"],[\"OneRepublic\"],[\"Alicia Keys\"],[\"Rihanna\"],[\"Flo Rida\"],[\"Bruno Mars\"],[\"Mike Posner\"],[\"Lady Gaga\"],[\"Far East Movement\"],[\"Usher\"],[\"Sean Kingston\"],[\"The Black Eyed Peas\"],[\"Lady Gaga\"],[\"Kesha\"],[\"The Black Eyed Peas\"],[\"Adam Lambert\"],[\"Kesha\"],[\"Maroon 5\"],[\"OneRepublic\"],[\"Neon Trees\"],[\"Selena Gomez & The Scene\"],[\"Enrique Iglesias\"],[\"Katy Perry\"],[\"Katy Perry\"],[\"Britney Spears\"],[\"3OH!3\"],[\"Kesha\"],[\"The Black Eyed Peas\"],[\"Alicia Keys\"],[\"David Guetta\"],[\"Christina Aguilera\"],[\"Adam Lambert\"],[\"The Black Eyed Peas\"],[\"Florence + The Machine\"],[\"Christina Aguilera\"],[\"Alicia Keys\"],[\"Rihanna\"],[\"Shakira\"],[\"Christina Aguilera\"],[\"Christina Aguilera\"],[\"Tinie Tempah\"],[\"Usher\"],[\"T.I.\"],[\"Taio Cruz\"],[\"Martin Solveig\"],[\"Christina Perri\"],[\"Adele\"],[\"Pitbull\"],[\"Bruno Mars\"],[\"Adele\"],[\"Beyonc\\u00e9\"],[\"Maroon 5\"],[\"Beyonc\\u00e9\"],[\"Bruno Mars\"],[\"Hot Chelle Rae\"],[\"Avril Lavigne\"],[\"Lady Gaga\"],[\"Kanye West\"],[\"Bruno Mars\"],[\"Beyonc\\u00e9\"],[\"LMFAO\"],[\"Kesha\"],[\"Jessie J\"],[\"OneRepublic\"],[\"The Black Eyed Peas\"],[\"Jennifer Lopez\"],[\"Rihanna\"],[\"Chris Brown\"],[\"David Guetta\"],[\"LMFAO\"],[\"Lady Gaga\"],[\"Katy Perry\"],[\"Britney Spears\"],[\"Britney Spears\"],[\"Kesha\"],[\"Lady Gaga\"],[\"Lady Gaga\"],[\"Enrique Iglesias\"],[\"Mike Posner\"],[\"Rihanna\"],[\"Lady Gaga\"],[\"Beyonc\\u00e9\"],[\"Britney Spears\"],[\"Jennifer Lopez\"],[\"Jennifer Lopez\"],[\"Rihanna\"],[\"Rihanna\"],[\"Tinie Tempah\"],[\"Christina Perri\"],[\"T.I.\"],[\"Sleeping At Last\"],[\"Nicki Minaj\"],[\"P!nk\"],[\"Jennifer Lopez\"],[\"Nicki Minaj\"],[\"Katy Perry\"],[\"Katy Perry\"],[\"Nicki Minaj\"],[\"David Guetta\"],[\"Bruno Mars\"],[\"Coldplay\"],[\"Maroon 5\"],[\"One Direction\"],[\"Taylor Swift\"],[\"Carly Rae Jepsen\"],[\"Selena Gomez & The Scene\"],[\"Adele\"],[\"Taylor Swift\"],[\"Kelly Clarkson\"],[\"P!nk\"],[\"Nicki Minaj\"],[\"Maroon 5\"],[\"Owl City\"],[\"The Wanted\"],[\"Justin Bieber\"],[\"Pitbull\"],[\"fun.\"],[\"Justin Bieber\"],[\"Katy Perry\"],[\"Jessie J\"],[\"Rihanna\"],[\"Katy Perry\"],[\"Katy Perry\"],[\"Jennifer Lopez\"],[\"Chris Brown\"],[\"Ellie Goulding\"],[\"fun.\"],[\"Rihanna\"],[\"Pitbull\"],[\"Rihanna\"],[\"Gym Class Heroes\"],[\"Bruno Mars\"],[\"P!nk\"],[\"Kelly Clarkson\"],[\"Avicii\"],[\"One Direction\"],[\"P!nk\"],[\"The Script\"],[\"Katy Perry\"],[\"Miley Cyrus\"],[\"Swedish House Mafia\"],[\"Daft Punk\"],[\"Miley Cyrus\"],[\"James Arthur\"],[\"Robin Thicke\"],[\"Demi Lovato\"],[\"Taylor Swift\"],[\"Kesha\"],[\"Zedd\"],[\"Lana Del Rey\"],[\"Calvin Harris\"],[\"Neon Trees\"],[\"Drake\"],[\"One Direction\"],[\"One Direction\"],[\"Calvin Harris\"],[\"Daft Punk\"],[\"Britney Spears\"],[\"Sara Bareilles\"],[\"Macklemore & Ryan Lewis\"],[\"Pitbull\"],[\"Labrinth\"],[\"Ne-Yo\"],[\"Macklemore & Ryan Lewis\"],[\"OneRepublic\"],[\"Ariana Grande\"],[\"Justin Timberlake\"],[\"will.i.am\"],[\"Icona Pop\"],[\"David Guetta\"],[\"Maroon 5\"],[\"Maroon 5\"],[\"Fergie\"],[\"Little Mix\"],[\"The Wanted\"],[\"Avril Lavigne\"],[\"Justin Bieber\"],[\"Justin Timberlake\"],[\"Emeli Sand\\u00e9\"],[\"Demi Lovato\"],[\"Emeli Sand\\u00e9\"],[\"Alicia Keys\"],[\"Justin Timberlake\"],[\"Selena Gomez\"],[\"Jennifer Lopez\"],[\"The Wanted\"],[\"Coldplay\"],[\"Austin Mahone\"],[\"Justin Timberlake\"],[\"Lady Gaga\"],[\"Ellie Goulding\"],[\"Enrique Iglesias\"],[\"Jonas Brothers\"],[\"Mariah Carey\"],[\"Little Mix\"],[\"Kesha\"],[\"Britney Spears\"],[\"Kelly Clarkson\"],[\"Ciara\"],[\"Rihanna\"],[\"Robin Thicke\"],[\"Jewel\"],[\"Pitbull\"],[\"Kelly Rowland\"],[\"John Legend\"],[\"Sam Smith\"],[\"Calvin Harris\"],[\"Pharrell Williams\"],[\"MAGIC!\"],[\"Taylor Swift\"],[\"Katy Perry\"],[\"Avicii\"],[\"Maroon 5\"],[\"Bruno Mars\"],[\"Passenger\"],[\"Ariana Grande\"],[\"Bastille\"],[\"Lorde\"],[\"John Newman\"],[\"Disclosure\"],[\"Miley Cyrus\"],[\"Michael Jackson\"],[\"Ellie Goulding\"],[\"5 Seconds of Summer\"],[\"Iggy Azalea\"],[\"Jason Derulo\"],[\"Bruno Mars\"],[\"Christina Perri\"],[\"Bruno Mars\"],[\"Jason Derulo\"],[\"OneRepublic\"],[\"Katy Perry\"],[\"Austin Mahone\"],[\"Fergie\"],[\"The Chainsmokers\"],[\"Beyonc\\u00e9\"],[\"Katy Perry\"],[\"Lady Gaga\"],[\"Zedd\"],[\"Demi Lovato\"],[\"Birdy\"],[\"Shakira\"],[\"David Guetta\"],[\"A Great Big World\"],[\"Coldplay\"],[\"Pharrell Williams\"],[\"Sia\"],[\"Beyonc\\u00e9\"],[\"Pitbull\"],[\"Birdy\"],[\"Beyonc\\u00e9\"],[\"Nicki Minaj\"],[\"Charli XCX\"],[\"Shakira\"],[\"Birdy\"],[\"Birdy\"],[\"Mariah Carey\"],[\"Lily Allen\"],[\"Lea Michele\"],[\"Alicia Keys\"],[\"Jennifer Lopez\"],[\"Justin Timberlake\"],[\"Ed Sheeran\"],[\"Sam Smith\"],[\"The Weeknd\"],[\"Justin Bieber\"],[\"Mark Ronson\"],[\"Hozier\"],[\"Maroon 5\"],[\"Justin Bieber\"],[\"Rihanna\"],[\"Ellie Goulding\"],[\"The Weeknd\"],[\"Justin Bieber\"],[\"Shawn Mendes\"],[\"Jason Derulo\"],[\"Flo Rida\"],[\"Mr. Probz\"],[\"One Direction\"],[\"Calvin Harris\"],[\"Zara Larsson\"],[\"Ariana Grande\"],[\"Maroon 5\"],[\"Calvin Harris\"],[\"Fifth Harmony\"],[\"Ariana Grande\"],[\"Ed Sheeran\"],[\"Sia\"],[\"Clean Bandit\"],[\"Adele\"],[\"Meghan Trainor\"],[\"Beyonc\\u00e9\"],[\"Selena Gomez\"],[\"David Guetta\"],[\"Christina Aguilera\"],[\"Justin Bieber\"],[\"Ed Sheeran\"],[\"Nick Jonas\"],[\"Demi Lovato\"],[\"Macklemore & Ryan Lewis\"],[\"Paloma Faith\"],[\"Kelly Clarkson\"],[\"Olly Murs\"],[\"Jason Derulo\"],[\"Naughty Boy\"],[\"Selena Gomez\"],[\"Zedd\"],[\"Meghan Trainor\"],[\"Justin Bieber\"],[\"Alessia Cara\"],[\"OneRepublic\"],[\"Pitbull\"],[\"Sigala\"],[\"Justin Bieber\"],[\"Carly Rae Jepsen\"],[\"Fifth Harmony\"],[\"Maroon 5\"],[\"Ariana Grande\"],[\"Meghan Trainor\"],[\"Ellie Goulding\"],[\"Little Mix\"],[\"Avicii\"],[\"Jennifer Lopez\"],[\"Justin Bieber\"],[\"Justin Bieber\"],[\"Rudimental\"],[\"Rihanna\"],[\"Jessie J\"],[\"Lost Frequencies\"],[\"Sia\"],[\"Robin Schulz\"],[\"Justin Bieber\"],[\"Lilly Wood and The Prick\"],[\"Wiz Khalifa\"],[\"Alesso\"],[\"Jennifer Lopez\"],[\"One Direction\"],[\"Madonna\"],[\"David Guetta\"],[\"Ed Sheeran\"],[\"Madonna\"],[\"Gwen Stefani\"],[\"Jess Glynne\"],[\"One Direction\"],[\"Pitbull\"],[\"Alicia Keys\"],[\"Florence + The Machine\"],[\"David Guetta\"],[\"Pitbull\"],[\"Hilary Duff\"],[\"Ricky Martin\"],[\"Katy Perry\"],[\"Gwen Stefani\"],[\"Kelly Clarkson\"],[\"Enrique Iglesias\"],[\"Jennifer Hudson\"],[\"Fergie\"],[\"The Weeknd\"],[\"Justin Bieber\"],[\"DNCE\"],[\"The Chainsmokers\"],[\"Martin Garrix\"],[\"Ariana Grande\"],[\"Calvin Harris\"],[\"Lady Gaga\"],[\"Rihanna\"],[\"Lukas Graham\"],[\"Justin Timberlake\"],[\"Fifth Harmony\"],[\"Alessia Cara\"],[\"Meghan Trainor\"],[\"Rihanna\"],[\"Shawn Mendes\"],[\"G-Eazy\"],[\"Mike Posner\"],[\"Ariana Grande\"],[\"Hailee Steinfeld\"],[\"Little Mix\"],[\"B\\u00d8RNS\"],[\"Demi Lovato\"],[\"Drake\"],[\"The Chainsmokers\"],[\"Major Lazer\"],[\"Meghan Trainor\"],[\"Major Lazer\"],[\"Jennifer Lopez\"],[\"Nick Jonas\"],[\"DNCE\"],[\"The Chainsmokers\"],[\"M\\u00d8\"],[\"Justin Bieber\"],[\"Selena Gomez\"],[\"Adele\"],[\"P!nk\"],[\"Meghan Trainor\"],[\"Selena Gomez\"],[\"Tove Lo\"],[\"Naughty Boy\"],[\"Alessia Cara\"],[\"Lady Gaga\"],[\"ZAYN\"],[\"Taylor Swift\"],[\"Katy Perry\"],[\"OneRepublic\"],[\"Demi Lovato\"],[\"Shawn Mendes\"],[\"ZAYN\"],[\"Sia\"],[\"Bebe Rexha\"],[\"Carly Rae Jepsen\"],[\"Snakehips\"],[\"Adele\"],[\"Missy Elliott\"],[\"Years & Years\"],[\"Adele\"],[\"Shawn Mendes\"],[\"Florence + The Machine\"],[\"Emeli Sand\\u00e9\"],[\"Christina Aguilera\"],[\"Britney Spears\"],[\"Birdy\"],[\"Zedd\"],[\"Gwen Stefani\"],[\"Nick Jonas\"],[\"DNCE\"],[\"John Legend\"],[\"Missy Elliott\"],[\"Carly Rae Jepsen\"],[\"Britney Spears\"],[\"Charlie Puth\"],[\"Passenger\"],[\"Hilary Duff\"],[\"Britney Spears\"],[\"Janet Jackson\"],[\"Joey Montana\"],[\"Nelly Furtado\"],[\"Adele\"],[\"Ed Sheeran\"],[\"The Chainsmokers\"],[\"The Weeknd\"],[\"Shawn Mendes\"],[\"Bruno Mars\"],[\"DJ Snake\"],[\"The Weeknd\"],[\"Shawn Mendes\"],[\"Ariana Grande\"],[\"Zedd\"],[\"Kygo\"],[\"Miley Cyrus\"],[\"The Chainsmokers\"],[\"Clean Bandit\"],[\"ZAYN\"],[\"Calvin Harris\"],[\"DJ Khaled\"],[\"Kesha\"],[\"Luis Fonsi\"],[\"Sia\"],[\"Martin Garrix\"],[\"The Chainsmokers\"],[\"Camila Cabello\"],[\"Jonas Blue\"],[\"Calvin Harris\"],[\"Katy Perry\"],[\"Katy Perry\"],[\"Maroon 5\"],[\"Lana Del Rey\"],[\"CNCO\"],[\"Adele\"],[\"Kygo\"],[\"Lady Gaga\"],[\"Alessia Cara\"],[\"Cardi B\"],[\"OneRepublic\"],[\"Alan Walker\"],[\"Sigala\"],[\"Bruno Mars\"],[\"Liam Payne\"],[\"Carly Rae Jepsen\"],[\"Robin Schulz\"],[\"Katy Perry\"],[\"Lana Del Rey\"],[\"Zedd\"],[\"DNCE\"],[\"Niall Horan\"],[\"Miley Cyrus\"],[\"DNCE\"],[\"Lost Frequencies\"],[\"Fifth Harmony\"],[\"Little Mix\"],[\"Charlie Puth\"],[\"Cashmere Cat\"],[\"OneRepublic\"],[\"Galantis\"],[\"Lana Del Rey\"],[\"Pitbull\"],[\"Tove Lo\"],[\"Nick Jonas\"],[\"Pitbull\"],[\"Adele\"],[\"Sia\"],[\"DNCE\"],[\"Coldplay\"],[\"Calvin Harris\"],[\"Camila Cabello\"],[\"Cardi B\"],[\"Dua Lipa\"],[\"Shawn Mendes\"],[\"Ariana Grande\"],[\"Dua Lipa\"],[\"Shawn Mendes\"],[\"Selena Gomez\"],[\"ZAYN\"],[\"Charlie Puth\"],[\"Silk City\"],[\"Rihanna\"],[\"Hailee Steinfeld\"],[\"Marshmello\"],[\"Demi Lovato\"],[\"Lady Gaga\"],[\"Rudimental\"],[\"Maroon 5\"],[\"Bruno Mars\"],[\"Ed Sheeran\"],[\"Halsey\"],[\"G-Eazy\"],[\"Justin Bieber\"],[\"DJ Khaled\"],[\"Troye Sivan\"],[\"Hailee Steinfeld\"],[\"The Chainsmokers\"],[\"Dan + Shay\"],[\"Taylor Swift\"],[\"Shawn Mendes\"],[\"Selena Gomez\"],[\"Rita Ora\"],[\"Justin Timberlake\"],[\"Nicki Minaj\"],[\"Harry Styles\"],[\"Liam Payne\"],[\"ZAYN\"],[\"Ansel Elgort\"],[\"Shawn Mendes\"],[\"Kygo\"],[\"Taylor Swift\"],[\"J Balvin\"],[\"N.E.R.D\"],[\"Liam Payne\"],[\"Dua Lipa\"],[\"Hayley Kiyoko\"],[\"Maroon 5\"],[\"P!nk\"],[\"DNCE\"],[\"David Guetta\"],[\"Eminem\"],[\"Niall Horan\"],[\"Rita Ora\"],[\"Enrique Iglesias\"],[\"Cashmere Cat\"],[\"Justin Timberlake\"],[\"Camila Cabello\"],[\"Bebe Rexha\"],[\"Justin Timberlake\"],[\"RedOne\"],[\"Taylor Swift\"],[\"Cardi B\"],[\"Demi Lovato\"],[\"Maroon 5\"],[\"Selena Gomez\"],[\"Lewis Capaldi\"],[\"Shawn Mendes\"],[\"Sam Smith\"],[\"Ed Sheeran\"],[\"SHAED\"],[\"Marshmello\"],[\"Lizzo\"],[\"Lizzo\"],[\"Kygo\"],[\"Jonas Brothers\"],[\"Ed Sheeran\"],[\"Jonas Brothers\"],[\"Mabel\"],[\"Ed Sheeran\"],[\"Khalid\"],[\"Calvin Harris\"],[\"The Chainsmokers\"],[\"R3HAB\"],[\"Maroon 5\"],[\"The Chainsmokers\"],[\"Chris Brown\"],[\"Ed Sheeran\"],[\"DJ Snake\"],[\"Daddy Yankee\"],[\"Mark Ronson\"],[\"Ed Sheeran\"],[\"DJ Khaled\"],[\"Mark Ronson\"],[\"The Chainsmokers\"]],\"hovertemplate\":\"\\u003cb\\u003e%{hovertext}\\u003c\\u002fb\\u003e\\u003cbr\\u003e\\u003cbr\\u003eyear=%{x}\\u003cbr\\u003ebpm=%{y}\\u003cbr\\u003eartist=%{customdata[0]}\\u003cextra\\u003e\\u003c\\u002fextra\\u003e\",\"hovertext\":[\"Hey, Soul Sister\",\"Love The Way You Lie\",\"TiK ToK\",\"Bad Romance\",\"Just the Way You Are\",\"Baby\",\"Dynamite\",\"Secrets\",\"Empire State of Mind (Part II) Broken Down\",\"Only Girl (In The World)\",\"Club Can't Handle Me (feat. David Guetta)\",\"Marry You\",\"Cooler Than Me - Single Mix\",\"Telephone\",\"Like A G6\",\"OMG (feat. will.i.am)\",\"Eenie Meenie\",\"The Time (Dirty Bit)\",\"Alejandro\",\"Your Love Is My Drug\",\"Meet Me Halfway\",\"Whataya Want from Me\",\"Take It Off\",\"Misery\",\"All The Right Moves\",\"Animal\",\"Naturally\",\"I Like It\",\"Teenage Dream\",\"California Gurls\",\"3\",\"My First Kiss - feat. Ke$ha\",\"Blah Blah Blah (feat. 3OH!3)\",\"Imma Be\",\"Try Sleeping with a Broken Heart\",\"Sexy Bitch (feat. Akon)\",\"Bound To You - Burlesque Original Motion Picture Soundtrack\",\"If I Had You\",\"Rock That Body\",\"Dog Days Are Over\",\"Something's Got A Hold On Me - Burlesque Original Motion Picture Soundtrack\",\"Doesn't Mean Anything\",\"Hard\",\"Loca\",\"You Lost Me\",\"Not Myself Tonight\",\"Written in the Stars (feat. Eric Turner)\",\"DJ Got Us Fallin' In Love (feat. Pitbull)\",\"Castle Walls (feat. Christina Aguilera)\",\"Break Your Heart\",\"Hello\",\"A Thousand Years\",\"Someone Like You\",\"Give Me Everything\",\"Just the Way You Are\",\"Rolling in the Deep\",\"Run the World (Girls)\",\"Moves Like Jagger - Studio Recording From The Voice Performance\",\"Love On Top\",\"Grenade\",\"Tonight Tonight\",\"What the Hell\",\"Born This Way\",\"Monster\",\"Marry You\",\"Best Thing I Never Had\",\"Party Rock Anthem\",\"We R Who We R\",\"Price Tag\",\"Good Life\",\"Just Can\\u0092t Get Enough\",\"On The Floor\",\"What's My Name?\",\"Yeah 3x\",\"Without You (feat. Usher)\",\"Sexy And I Know It\",\"The Edge Of Glory\",\"E.T.\",\"Till the World Ends\",\"I Wanna Go\",\"Blow\",\"You And I\",\"Judas\",\"Tonight (I'm Fuckin' You)\",\"Please Don't Go\",\"We Found Love\",\"Marry The Night\",\"1+1\",\"Hold It Against Me\",\"I'm Into You\",\"Papi\",\"Cheers (Drink To That)\",\"S&M Remix\",\"Written in the Stars (feat. Eric Turner)\",\"Jar of Hearts\",\"Castle Walls (feat. Christina Aguilera)\",\"Turning Page\",\"Super Bass\",\"Raise Your Glass\",\"Invading My Mind\",\"Moment 4 Life - Album Version (Edited)\",\"Last Friday Night (T.G.I.F.)\",\"Firework\",\"Muny - Album Version (Edited)\",\"Titanium (feat. Sia)\",\"Locked Out of Heaven\",\"Paradise\",\"Payphone\",\"What Makes You Beautiful\",\"I Knew You Were Trouble.\",\"Call Me Maybe\",\"Love You Like A Love Song\",\"Set Fire to the Rain\",\"We Are Never Ever Getting Back Together\",\"Stronger (What Doesn't Kill You)\",\"Try\",\"Starships\",\"One More Night\",\"Good Time\",\"Glad You Came\",\"Beauty And A Beat\",\"International Love\",\"Some Nights\",\"Boyfriend\",\"Part Of Me\",\"Domino\",\"Where Have You Been\",\"Wide Awake\",\"The One That Got Away\",\"Dance Again\",\"Turn Up the Music\",\"Lights - Single Version\",\"We Are Young (feat. Janelle Mon\\u00e1e)\",\"Diamonds\",\"Don't Stop the Party (feat. TJR)\",\"You Da One\",\"Stereo Hearts (feat. Adam Levine)\",\"It Will Rain\",\"Blow Me (One Last Kiss)\",\"Underneath the Tree\",\"Wake Me Up\",\"Story of My Life\",\"Just Give Me a Reason (feat. Nate Ruess)\",\"Hall of Fame\",\"Roar\",\"We Can't Stop\",\"Don't You Worry Child - Radio Edit\",\"Get Lucky (feat. Pharrell Williams & Nile Rodgers) - Radio Edit\",\"Wrecking Ball\",\"Impossible\",\"Blurred Lines\",\"Heart Attack\",\"We Are Never Ever Getting Back Together\",\"Die Young\",\"Clarity\",\"Summertime Sadness (Lana Del Rey Vs. Cedric Gervais) - Cedric Gervais Remix\",\"Under Control\",\"Everybody Talks\",\"Hold On, We're Going Home\",\"Best Song Ever\",\"Kiss You\",\"Sweet Nothing (feat. Florence Welch)\",\"Lose Yourself to Dance\",\"Work Bitch\",\"Brave\",\"Can't Hold Us (feat. Ray Dalton)\",\"Feel This Moment (feat. Christina Aguilera)\",\"Beneath Your Beautiful\",\"Let Me Love You (Until You Learn To Love Yourself)\",\"Thrift Shop (feat. Wanz)\",\"If I Lose Myself - Alesso vs OneRepublic\",\"The Way\",\"Suit & Tie\",\"#thatPOWER\",\"I Love It (feat. Charli XCX)\",\"Play Hard (feat. Ne-Yo & Akon) - New Edit\",\"Daylight\",\"Love Somebody\",\"A Little Party Never Killed Nobody (All We Got)\",\"Move\",\"Walks Like Rihanna\",\"Rock N Roll\",\"Heartbreaker\",\"Mirrors - Radio Edit\",\"Next To Me\",\"Made In The USA\",\"Clown\",\"Girl On Fire (feat. Nicki Minaj) - Inferno Version\",\"TKO\",\"Come & Get It\",\"Live It Up\",\"We Own The Night\",\"Atlas - From \\u0093The Hunger Games: Catching Fire\\u0094 Soundtrack\",\"What About Love\",\"Take Back the Night\",\"Applause\",\"Anything Could Happen\",\"Finally Found You\",\"Pom Poms\",\"#Beautiful\",\"How Ya Doin'? (feat. Missy Elliott)\",\"Crazy Kids (feat. will.i.am)\",\"Ooh La La (from \\\"The Smurfs 2\\\")\",\"People Like Us\",\"Overdose\",\"Right Now - Dyro Radio Edit\",\"Give It 2 U\",\"Foolish Games\",\"Outta Nowhere (feat. Danny Mercer)\",\"Freak\",\"All of Me\",\"Stay With Me\",\"Summer\",\"Happy - From \\\"Despicable Me 2\\\"\",\"Rude\",\"Shake It Off\",\"Dark Horse\",\"Hey Brother\",\"Maps\",\"Treasure\",\"Let Her Go\",\"Problem\",\"Pompeii\",\"Team\",\"Love Me Again\",\"Latch\",\"Adore You\",\"Love Never Felt So Good\",\"Burn\",\"She Looks So Perfect\",\"Fancy\",\"Talk Dirty (feat. 2 Chainz)\",\"Gorilla\",\"human\",\"Young Girls\",\"Wiggle (feat. Snoop Dogg)\",\"Love Runs Out\",\"This Is How We Do\",\"Mmm Yeah (feat. Pitbull)\",\"A Little Party Never Killed Nobody (All We Got)\",\"#SELFIE\",\"Partition\",\"Birthday\",\"G.U.Y.\",\"Stay The Night - Featuring Hayley Williams Of Paramore\",\"Let It Go - From \\\"Frozen \\u002f Single Version\",\"Wings\",\"Can't Remember to Forget You (feat. Rihanna)\",\"Shot Me Down (feat. Skylar Grey) - Radio Edit\",\"Say Something\",\"A Sky Full of Stars\",\"Come Get It Bae\",\"Chandelier\",\"XO\",\"We Are One (Ole Ola) [The Official 2014 FIFA World Cup Song]\",\"Not About Angels\",\"Drunk in Love\",\"Anaconda\",\"Boom Clap - From the Motion Picture Das Schicksal ist ein mieser Verr\\u00e4ter\",\"La La La (Brasil 2014) (feat. Carlinhos Brown)\",\"Tee Shirt - Soundtrack Version\",\"Words as Weapons\",\"You're Mine (Eternal)\",\"Sheezus\",\"Cannonball\",\"It's On Again - Main Soundtrack\",\"I Luh Ya Papi\",\"Not a Bad Thing\",\"Thinking out Loud\",\"I'm Not The Only One\",\"The Hills\",\"Love Yourself\",\"Uptown Funk\",\"Take Me To Church\",\"Sugar\",\"Sorry\",\"FourFiveSeconds\",\"Love Me Like You Do - From \\\"Fifty Shades Of Grey\\\"\",\"Earned It (Fifty Shades Of Grey) - From The \\\"Fifty Shades Of Grey\\\" Soundtrack\",\"What Do You Mean?\",\"Stitches\",\"Want to Want Me\",\"My House\",\"Waves - Robin Schulz Radio Edit\",\"Night Changes\",\"How Deep Is Your Love\",\"Never Forget You\",\"Love Me Harder\",\"Animals\",\"Blame\",\"Worth It\",\"Break Free\",\"Don't\",\"Elastic Heart\",\"Rather Be (feat. Jess Glynne)\",\"Hello\",\"Dear Future Husband\",\"43776\",\"The Heart Wants What It Wants\",\"Hey Mama (feat. Nicki Minaj, Bebe Rexha & Afrojack)\",\"Genie In a Bottle\",\"Company\",\"Sing\",\"Jealous - Remix\",\"Really Don't Care\",\"Downtown (feat. Melle Mel, Grandmaster Caz, Kool Moe Dee & Eric Nally)\",\"Only Love Can Hurt Like This\",\"Heartbeat Song\",\"Up\",\"Trumpets\",\"Runnin' (Lose It All)\",\"Same Old Love\",\"I Want You To Know\",\"Lips Are Movin\",\"I'll Show You\",\"Here\",\"I Lived\",\"Fireball (feat. John Ryan)\",\"Easy Love\",\"The Feeling\",\"I Really Like You\",\"BO$$\",\"Sugar\",\"Focus\",\"All About That Bass\",\"On My Mind\",\"Love Me Like You\",\"Broken Arrows\",\"Booty\",\"What Do You Mean? - Acoustic\",\"Mark My Words\",\"Lay It All on Me\",\"American Oxygen\",\"Bang Bang\",\"Reality - Radio Edit\",\"Alive\",\"Sugar (feat. Francesco Yates)\",\"Been You\",\"Prayer in C - Robin Schulz Radio Edit\",\"See You Again (feat. Charlie Puth)\",\"Heroes (we could be)\",\"Feel The Light - From The \\\"Home\\\" Soundtrack\",\"Perfect\",\"Ghosttown\",\"Bang My Head (feat. Sia & Fetty Wap)\",\"Bloodstream\",\"Living For Love\",\"Baby Don't Lie\",\"Don't Be so Hard on Yourself\",\"Steal My Girl\",\"Celebrate (From the Original Motion Picture \\\"Penguins of Madagascar\\\")\",\"We Are Here\",\"St Jude\",\"Yesterday (feat. Bebe Rexha)\",\"Time of Our Lives\",\"Sparks\",\"Mr. Put It Down\",\"Legendary Lovers\",\"Spark The Fire\",\"Run Run Run\",\"Let Me Be Your Lover\",\"Dangerous\",\"L.A.LOVE (la la)\",\"The Hills\",\"Love Yourself\",\"Cake By The Ocean\",\"Don't Let Me Down\",\"In the Name of Love\",\"Into You\",\"This Is What You Came For\",\"Million Reasons\",\"Needed Me\",\"7 Years\",\"CAN'T STOP THE FEELING! (Original Song from DreamWorks Animation's \\\"TROLLS\\\")\",\"Work from Home (feat. Ty Dolla $ign)\",\"Scars To Your Beautiful\",\"Like I'm Gonna Lose You (feat. John Legend)\",\"Work\",\"Stitches\",\"Me, Myself & I\",\"I Took A Pill In Ibiza - Seeb Remix\",\"Dangerous Woman\",\"Starving\",\"Shout Out to My Ex\",\"Electric Love\",\"Confident\",\"Too Good\",\"Roses\",\"Cold Water (feat. Justin Bieber & M\\u00d8)\",\"Me Too\",\"Light It Up (feat. Nyla & Fuse ODG) [Remix]\",\"Ain't Your Mama\",\"Close\",\"Toothbrush\",\"All We Know\",\"Final Song\",\"Company\",\"Hands To Myself\",\"All I Ask\",\"Just Like Fire (From the Original Motion Picture \\\"Alice Through The Looking Glass\\\")\",\"NO\",\"Kill Em With Kindness\",\"Cool Girl\",\"Runnin' (Lose It All)\",\"Here\",\"Perfect Illusion\",\"PILLOWTALK\",\"Out Of The Woods\",\"Rise\",\"Wherever I Go\",\"Body Say\",\"Don't Be A Fool\",\"LIKE I WOULD\",\"Cheap Thrills\",\"I Got You\",\"Run Away With Me\",\"Cruel (feat. ZAYN)\",\"Send My Love (To Your New Lover)\",\"WTF (Where They From)\",\"Desire\",\"When We Were Young\",\"I Know What You Did Last Summer\",\"Wish That You Were Here - From \\u0093Miss Peregrine\\u0092s Home for Peculiar Children\\u0094 Original Motion Picture\",\"Hurts\",\"Change\",\"Make Me... (feat. G-Eazy)\",\"Keeping Your Head Up\",\"True Colors\",\"Make Me Like You\",\"Champagne Problems\",\"Blown\",\"Start\",\"Pep Rally\",\"Higher\",\"Invitation\",\"One Call Away (feat. Tyga) - Remix\",\"Beautiful Birds (feat. Birdy)\",\"Little Lies\",\"Do You Wanna Come Over?\",\"BURNITUP!\",\"Picky - Remix\",\"Behind Your Back\",\"Million Years Ago\",\"Shape of You\",\"Closer\",\"Starboy\",\"Treat You Better\",\"That's What I Like\",\"Let Me Love You\",\"I Feel It Coming\",\"Mercy\",\"Side To Side\",\"Stay\",\"It Ain't Me (with Selena Gomez)\",\"Malibu\",\"Something Just Like This\",\"Rockabye (feat. Sean Paul & Anne-Marie)\",\"I Don\\u0092t Wanna Live Forever (Fifty Shades Darker)\",\"My Way\",\"I'm the One (feat. Justin Bieber, Quavo, Chance the Rapper & Lil Wayne)\",\"Praying\",\"Despacito - Remix\",\"The Greatest\",\"There for You\",\"Paris\",\"Crying in the Club\",\"Mama\",\"Slide (feat. Frank Ocean & Migos)\",\"Swish Swish\",\"Chained To The Rhythm\",\"Cold (feat. Future)\",\"Love\",\"Reggaet\\u00f3n Lento (Remix)\",\"All I Ask\",\"First Time\",\"The Cure\",\"How Far I'll Go - From \\\"Moana\\\"\",\"Bodak Yellow\",\"Rich Love (with Seeb)\",\"Tired\",\"Came Here for Love\",\"24K Magic\",\"Strip That Down (feat. Quavo)\",\"Cut To The Feeling\",\"OK - Spotify Version\",\"Bon app\\u00e9tit\",\"Summer Bummer (feat. A$AP Rocky & Playboi Carti)\",\"Get Low (with Liam Payne)\",\"Kissing Strangers\",\"Slow Hands\",\"Younger Now\",\"Body Moves\",\"Reality (feat. Janieck Devy) - Radio Edit\",\"Angel\",\"Touch (feat. Kid Ink)\",\"We Don't Talk Anymore - DROELOE Remix\",\"Love Incredible (feat. Camila Cabello)\",\"No Vacancy (with Sebasti\\u00e1n Yatra)\",\"Rich Boy\",\"Lust for Life (with The Weeknd)\",\"Greenlight (feat. Flo Rida & LunchMoney Lewis)\",\"Influence\",\"Remember I Told You\",\"Messin' Around\",\"Water Under the Bridge\",\"Free Me\",\"Kissing Strangers - Remix\",\"A L I E N S\",\"One Kiss (with Dua Lipa)\",\"Havana (feat. Young Thug)\",\"I Like It\",\"New Rules\",\"There's Nothing Holdin' Me Back\",\"no tears left to cry\",\"IDGAF\",\"In My Blood\",\"Wolves\",\"Dusk Till Dawn - Radio Edit\",\"Attention\",\"Electricity (with Dua Lipa)\",\"Love On The Brain\",\"Let Me Go (with Alesso, Florida Georgia Line & watt)\",\"Silence\",\"Sorry Not Sorry\",\"Shallow - Radio Edit\",\"These Days\",\"What Lovers Do (feat. SZA)\",\"Finesse - Remix; feat. Cardi B\",\"Perfect Duet (Ed Sheeran & Beyonc\\u00e9)\",\"Bad At Love\",\"Him & I (with Halsey)\",\"Friends (with BloodPop\\u00ae)\",\"Wild Thoughts (feat. Rihanna & Bryson Tiller)\",\"My My My!\",\"Capital Letters\",\"Sick Boy\",\"Tequila\",\"Look What You Made Me Do\",\"Youth (feat. Khalid)\",\"Bad Liar\",\"Anywhere\",\"Say Something\",\"Chun-Li\",\"Sign of the Times\",\"Familiar\",\"Let Me\",\"Supernova\",\"Nervous\",\"First Time\",\"End Game\",\"Mi Gente (feat. Beyonc\\u00e9)\",\"Lemon\",\"For You (With Rita Ora)\",\"Want To\",\"What I Need (feat. Kehlani)\",\"Wait\",\"What About Us\",\"Kissing Strangers\",\"2U (feat. Justin Bieber)\",\"Walk On Water (feat. Beyonc\\u00e9)\",\"This Town\",\"Girls (feat. Cardi B, Bebe Rexha & Charli XCX)\",\"MOVE TO MIAMI\",\"Miss You (with Major Lazer & Tory Lanez)\",\"Filthy\",\"Never Be the Same - Radio Edit\",\"Ferrari\",\"Supplies\",\"Boom Boom\",\"...Ready For It? - BloodPop\\u00ae Remix\",\"Drip (feat. Migos)\",\"Tell Me You Love Me - NOTD Remix\",\"Memories\",\"Lose You To Love Me\",\"Someone You Loved\",\"Se\\u00f1orita\",\"How Do You Sleep?\",\"South of the Border (feat. Camila Cabello & Cardi B)\",\"Trampoline (with ZAYN)\",\"Happier\",\"Truth Hurts\",\"Good as Hell (feat. Ariana Grande) - Remix\",\"Higher Love\",\"Only Human\",\"Beautiful People (feat. Khalid)\",\"Sucker\",\"Don't Call Me Up\",\"I Don't Care (with Justin Bieber)\",\"Talk (feat. Disclosure)\",\"Giant (with Rag'n'Bone Man)\",\"Takeaway\",\"All Around The World (La La La)\",\"Girls Like You (feat. Cardi B)\",\"Call You Mine\",\"No Guidance (feat. Drake)\",\"Antisocial (with Travis Scott)\",\"Taki Taki (feat. Selena Gomez, Ozuna & Cardi B)\",\"Con Calma - Remix\",\"Find U Again (feat. Camila Cabello)\",\"Cross Me (feat. Chance the Rapper & PnB Rock)\",\"No Brainer (feat. Justin Bieber, Chance the Rapper & Quavo)\",\"Nothing Breaks Like a Heart (feat. Miley Cyrus)\",\"Kills You Slowly\"],\"legendgroup\":\"\",\"marker\":{\"color\":\"#636efa\",\"symbol\":\"circle\"},\"mode\":\"markers\",\"name\":\"\",\"orientation\":\"v\",\"showlegend\":false,\"x\":[2010,2010,2010,2010,2010,2010,2010,2010,2010,2010,2010,2010,2010,2010,2010,2010,2010,2010,2010,2010,2010,2010,2010,2010,2010,2010,2010,2010,2010,2010,2010,2010,2010,2010,2010,2010,2010,2010,2010,2010,2010,2010,2010,2010,2010,2010,2010,2010,2010,2010,2010,2011,2011,2011,2011,2011,2011,2011,2011,2011,2011,2011,2011,2011,2011,2011,2011,2011,2011,2011,2011,2011,2011,2011,2011,2011,2011,2011,2011,2011,2011,2011,2011,2011,2011,2011,2011,2011,2011,2011,2011,2011,2011,2011,2011,2011,2011,2011,2011,2011,2011,2011,2011,2011,2012,2012,2012,2012,2012,2012,2012,2012,2012,2012,2012,2012,2012,2012,2012,2012,2012,2012,2012,2012,2012,2012,2012,2012,2012,2012,2012,2012,2012,2012,2012,2012,2012,2012,2012,2013,2013,2013,2013,2013,2013,2013,2013,2013,2013,2013,2013,2013,2013,2013,2013,2013,2013,2013,2013,2013,2013,2013,2013,2013,2013,2013,2013,2013,2013,2013,2013,2013,2013,2013,2013,2013,2013,2013,2013,2013,2013,2013,2013,2013,2013,2013,2013,2013,2013,2013,2013,2013,2013,2013,2013,2013,2013,2013,2013,2013,2013,2013,2013,2013,2013,2013,2013,2013,2013,2013,2014,2014,2014,2014,2014,2014,2014,2014,2014,2014,2014,2014,2014,2014,2014,2014,2014,2014,2014,2014,2014,2014,2014,2014,2014,2014,2014,2014,2014,2014,2014,2014,2014,2014,2014,2014,2014,2014,2014,2014,2014,2014,2014,2014,2014,2014,2014,2014,2014,2014,2014,2014,2014,2014,2014,2014,2014,2014,2015,2015,2015,2015,2015,2015,2015,2015,2015,2015,2015,2015,2015,2015,2015,2015,2015,2015,2015,2015,2015,2015,2015,2015,2015,2015,2015,2015,2015,2015,2015,2015,2015,2015,2015,2015,2015,2015,2015,2015,2015,2015,2015,2015,2015,2015,2015,2015,2015,2015,2015,2015,2015,2015,2015,2015,2015,2015,2015,2015,2015,2015,2015,2015,2015,2015,2015,2015,2015,2015,2015,2015,2015,2015,2015,2015,2015,2015,2015,2015,2015,2015,2015,2015,2015,2015,2015,2015,2015,2015,2015,2015,2015,2015,2015,2016,2016,2016,2016,2016,2016,2016,2016,2016,2016,2016,2016,2016,2016,2016,2016,2016,2016,2016,2016,2016,2016,2016,2016,2016,2016,2016,2016,2016,2016,2016,2016,2016,2016,2016,2016,2016,2016,2016,2016,2016,2016,2016,2016,2016,2016,2016,2016,2016,2016,2016,2016,2016,2016,2016,2016,2016,2016,2016,2016,2016,2016,2016,2016,2016,2016,2016,2016,2016,2016,2016,2016,2016,2016,2016,2016,2016,2016,2016,2016,2017,2017,2017,2017,2017,2017,2017,2017,2017,2017,2017,2017,2017,2017,2017,2017,2017,2017,2017,2017,2017,2017,2017,2017,2017,2017,2017,2017,2017,2017,2017,2017,2017,2017,2017,2017,2017,2017,2017,2017,2017,2017,2017,2017,2017,2017,2017,2017,2017,2017,2017,2017,2017,2017,2017,2017,2017,2017,2017,2017,2017,2017,2017,2017,2017,2018,2018,2018,2018,2018,2018,2018,2018,2018,2018,2018,2018,2018,2018,2018,2018,2018,2018,2018,2018,2018,2018,2018,2018,2018,2018,2018,2018,2018,2018,2018,2018,2018,2018,2018,2018,2018,2018,2018,2018,2018,2018,2018,2018,2018,2018,2018,2018,2018,2018,2018,2018,2018,2018,2018,2018,2018,2018,2018,2018,2018,2018,2018,2018,2019,2019,2019,2019,2019,2019,2019,2019,2019,2019,2019,2019,2019,2019,2019,2019,2019,2019,2019,2019,2019,2019,2019,2019,2019,2019,2019,2019,2019,2019,2019],\"xaxis\":\"x\",\"y\":[97,87,120,119,109,65,120,148,93,126,128,145,130,122,125,130,121,128,99,120,130,186,125,103,146,148,133,129,120,125,135,138,120,92,111,130,164,131,125,150,150,104,182,112,43,120,91,120,80,122,128,139,135,129,109,105,127,128,94,110,100,150,124,125,145,99,130,120,175,95,94,130,100,130,128,130,128,152,132,130,120,127,131,126,120,128,131,63,133,84,120,80,128,91,75,80,125,127,122,129,130,126,124,98,126,144,140,110,125,77,120,117,108,86,116,104,125,93,126,127,128,120,108,97,130,127,128,160,134,128,130,120,184,92,127,127,90,150,114,160,124,121,95,85,180,80,129,116,120,170,120,174,86,128,128,126,126,155,100,118,90,128,100,128,185,146,136,84,125,95,126,82,102,128,126,130,120,120,130,121,126,184,105,77,95,87,130,93,138,80,128,104,136,100,107,140,103,128,148,107,201,128,128,128,107,130,127,132,95,104,120,84,128,160,144,160,132,125,120,116,75,103,127,100,126,122,120,118,87,160,95,100,140,144,126,82,120,96,126,130,128,186,126,110,128,140,83,138,192,138,125,120,174,170,125,116,140,130,92,128,76,120,149,130,92,110,96,86,79,82,113,100,115,129,120,100,206,190,120,125,150,114,94,120,120,122,146,99,190,128,100,130,95,130,121,158,79,136,83,86,176,95,120,93,121,110,91,149,115,82,139,98,130,139,192,120,120,123,124,127,122,103,120,100,134,155,106,116,129,125,114,123,78,150,122,100,123,113,123,80,126,156,100,79,108,89,123,100,120,77,127,93,117,128,124,122,128,126,120,112,112,109,202,113,100,119,160,134,108,124,130,111,120,113,105,97,108,92,150,112,102,134,100,126,120,130,118,100,93,124,108,120,124,105,90,105,95,111,142,163,92,120,102,139,120,125,125,92,101,100,87,175,113,90,98,119,110,164,120,126,144,114,94,106,82,123,122,126,118,108,130,110,90,114,112,91,86,124,121,123,186,98,0,96,95,186,83,134,100,93,148,159,102,100,140,103,102,118,120,81,73,178,192,106,100,85,104,104,120,190,100,99,94,142,90,100,181,125,105,124,125,107,106,115,122,106,135,108,120,86,122,102,122,124,102,100,167,100,110,100,115,105,113,158,95,87,120,148,124,105,136,116,122,122,97,140,125,180,100,118,172,103,142,144,96,92,110,105,95,118,88,105,98,103,100,90,86,128,100,121,107,97,129,120,93,168,140,122,90,159,105,95,113,92,104,126,114,120,145,82,112,94,100,100,97,130,77,120,110,160,130,102,91,102,110,117,111,98,127,100,158,96,104,94,93,138,99,102,136,122,100,125,125,104,93,152,96,94,104,95,136,114,150],\"yaxis\":\"y\",\"type\":\"scatter\"}],                        {\"template\":{\"data\":{\"histogram2dcontour\":[{\"type\":\"histogram2dcontour\",\"colorbar\":{\"outlinewidth\":0,\"ticks\":\"\"},\"colorscale\":[[0.0,\"#0d0887\"],[0.1111111111111111,\"#46039f\"],[0.2222222222222222,\"#7201a8\"],[0.3333333333333333,\"#9c179e\"],[0.4444444444444444,\"#bd3786\"],[0.5555555555555556,\"#d8576b\"],[0.6666666666666666,\"#ed7953\"],[0.7777777777777778,\"#fb9f3a\"],[0.8888888888888888,\"#fdca26\"],[1.0,\"#f0f921\"]]}],\"choropleth\":[{\"type\":\"choropleth\",\"colorbar\":{\"outlinewidth\":0,\"ticks\":\"\"}}],\"histogram2d\":[{\"type\":\"histogram2d\",\"colorbar\":{\"outlinewidth\":0,\"ticks\":\"\"},\"colorscale\":[[0.0,\"#0d0887\"],[0.1111111111111111,\"#46039f\"],[0.2222222222222222,\"#7201a8\"],[0.3333333333333333,\"#9c179e\"],[0.4444444444444444,\"#bd3786\"],[0.5555555555555556,\"#d8576b\"],[0.6666666666666666,\"#ed7953\"],[0.7777777777777778,\"#fb9f3a\"],[0.8888888888888888,\"#fdca26\"],[1.0,\"#f0f921\"]]}],\"heatmap\":[{\"type\":\"heatmap\",\"colorbar\":{\"outlinewidth\":0,\"ticks\":\"\"},\"colorscale\":[[0.0,\"#0d0887\"],[0.1111111111111111,\"#46039f\"],[0.2222222222222222,\"#7201a8\"],[0.3333333333333333,\"#9c179e\"],[0.4444444444444444,\"#bd3786\"],[0.5555555555555556,\"#d8576b\"],[0.6666666666666666,\"#ed7953\"],[0.7777777777777778,\"#fb9f3a\"],[0.8888888888888888,\"#fdca26\"],[1.0,\"#f0f921\"]]}],\"heatmapgl\":[{\"type\":\"heatmapgl\",\"colorbar\":{\"outlinewidth\":0,\"ticks\":\"\"},\"colorscale\":[[0.0,\"#0d0887\"],[0.1111111111111111,\"#46039f\"],[0.2222222222222222,\"#7201a8\"],[0.3333333333333333,\"#9c179e\"],[0.4444444444444444,\"#bd3786\"],[0.5555555555555556,\"#d8576b\"],[0.6666666666666666,\"#ed7953\"],[0.7777777777777778,\"#fb9f3a\"],[0.8888888888888888,\"#fdca26\"],[1.0,\"#f0f921\"]]}],\"contourcarpet\":[{\"type\":\"contourcarpet\",\"colorbar\":{\"outlinewidth\":0,\"ticks\":\"\"}}],\"contour\":[{\"type\":\"contour\",\"colorbar\":{\"outlinewidth\":0,\"ticks\":\"\"},\"colorscale\":[[0.0,\"#0d0887\"],[0.1111111111111111,\"#46039f\"],[0.2222222222222222,\"#7201a8\"],[0.3333333333333333,\"#9c179e\"],[0.4444444444444444,\"#bd3786\"],[0.5555555555555556,\"#d8576b\"],[0.6666666666666666,\"#ed7953\"],[0.7777777777777778,\"#fb9f3a\"],[0.8888888888888888,\"#fdca26\"],[1.0,\"#f0f921\"]]}],\"surface\":[{\"type\":\"surface\",\"colorbar\":{\"outlinewidth\":0,\"ticks\":\"\"},\"colorscale\":[[0.0,\"#0d0887\"],[0.1111111111111111,\"#46039f\"],[0.2222222222222222,\"#7201a8\"],[0.3333333333333333,\"#9c179e\"],[0.4444444444444444,\"#bd3786\"],[0.5555555555555556,\"#d8576b\"],[0.6666666666666666,\"#ed7953\"],[0.7777777777777778,\"#fb9f3a\"],[0.8888888888888888,\"#fdca26\"],[1.0,\"#f0f921\"]]}],\"mesh3d\":[{\"type\":\"mesh3d\",\"colorbar\":{\"outlinewidth\":0,\"ticks\":\"\"}}],\"scatter\":[{\"fillpattern\":{\"fillmode\":\"overlay\",\"size\":10,\"solidity\":0.2},\"type\":\"scatter\"}],\"parcoords\":[{\"type\":\"parcoords\",\"line\":{\"colorbar\":{\"outlinewidth\":0,\"ticks\":\"\"}}}],\"scatterpolargl\":[{\"type\":\"scatterpolargl\",\"marker\":{\"colorbar\":{\"outlinewidth\":0,\"ticks\":\"\"}}}],\"bar\":[{\"error_x\":{\"color\":\"#2a3f5f\"},\"error_y\":{\"color\":\"#2a3f5f\"},\"marker\":{\"line\":{\"color\":\"#E5ECF6\",\"width\":0.5},\"pattern\":{\"fillmode\":\"overlay\",\"size\":10,\"solidity\":0.2}},\"type\":\"bar\"}],\"scattergeo\":[{\"type\":\"scattergeo\",\"marker\":{\"colorbar\":{\"outlinewidth\":0,\"ticks\":\"\"}}}],\"scatterpolar\":[{\"type\":\"scatterpolar\",\"marker\":{\"colorbar\":{\"outlinewidth\":0,\"ticks\":\"\"}}}],\"histogram\":[{\"marker\":{\"pattern\":{\"fillmode\":\"overlay\",\"size\":10,\"solidity\":0.2}},\"type\":\"histogram\"}],\"scattergl\":[{\"type\":\"scattergl\",\"marker\":{\"colorbar\":{\"outlinewidth\":0,\"ticks\":\"\"}}}],\"scatter3d\":[{\"type\":\"scatter3d\",\"line\":{\"colorbar\":{\"outlinewidth\":0,\"ticks\":\"\"}},\"marker\":{\"colorbar\":{\"outlinewidth\":0,\"ticks\":\"\"}}}],\"scattermapbox\":[{\"type\":\"scattermapbox\",\"marker\":{\"colorbar\":{\"outlinewidth\":0,\"ticks\":\"\"}}}],\"scatterternary\":[{\"type\":\"scatterternary\",\"marker\":{\"colorbar\":{\"outlinewidth\":0,\"ticks\":\"\"}}}],\"scattercarpet\":[{\"type\":\"scattercarpet\",\"marker\":{\"colorbar\":{\"outlinewidth\":0,\"ticks\":\"\"}}}],\"carpet\":[{\"aaxis\":{\"endlinecolor\":\"#2a3f5f\",\"gridcolor\":\"white\",\"linecolor\":\"white\",\"minorgridcolor\":\"white\",\"startlinecolor\":\"#2a3f5f\"},\"baxis\":{\"endlinecolor\":\"#2a3f5f\",\"gridcolor\":\"white\",\"linecolor\":\"white\",\"minorgridcolor\":\"white\",\"startlinecolor\":\"#2a3f5f\"},\"type\":\"carpet\"}],\"table\":[{\"cells\":{\"fill\":{\"color\":\"#EBF0F8\"},\"line\":{\"color\":\"white\"}},\"header\":{\"fill\":{\"color\":\"#C8D4E3\"},\"line\":{\"color\":\"white\"}},\"type\":\"table\"}],\"barpolar\":[{\"marker\":{\"line\":{\"color\":\"#E5ECF6\",\"width\":0.5},\"pattern\":{\"fillmode\":\"overlay\",\"size\":10,\"solidity\":0.2}},\"type\":\"barpolar\"}],\"pie\":[{\"automargin\":true,\"type\":\"pie\"}]},\"layout\":{\"autotypenumbers\":\"strict\",\"colorway\":[\"#636efa\",\"#EF553B\",\"#00cc96\",\"#ab63fa\",\"#FFA15A\",\"#19d3f3\",\"#FF6692\",\"#B6E880\",\"#FF97FF\",\"#FECB52\"],\"font\":{\"color\":\"#2a3f5f\"},\"hovermode\":\"closest\",\"hoverlabel\":{\"align\":\"left\"},\"paper_bgcolor\":\"white\",\"plot_bgcolor\":\"#E5ECF6\",\"polar\":{\"bgcolor\":\"#E5ECF6\",\"angularaxis\":{\"gridcolor\":\"white\",\"linecolor\":\"white\",\"ticks\":\"\"},\"radialaxis\":{\"gridcolor\":\"white\",\"linecolor\":\"white\",\"ticks\":\"\"}},\"ternary\":{\"bgcolor\":\"#E5ECF6\",\"aaxis\":{\"gridcolor\":\"white\",\"linecolor\":\"white\",\"ticks\":\"\"},\"baxis\":{\"gridcolor\":\"white\",\"linecolor\":\"white\",\"ticks\":\"\"},\"caxis\":{\"gridcolor\":\"white\",\"linecolor\":\"white\",\"ticks\":\"\"}},\"coloraxis\":{\"colorbar\":{\"outlinewidth\":0,\"ticks\":\"\"}},\"colorscale\":{\"sequential\":[[0.0,\"#0d0887\"],[0.1111111111111111,\"#46039f\"],[0.2222222222222222,\"#7201a8\"],[0.3333333333333333,\"#9c179e\"],[0.4444444444444444,\"#bd3786\"],[0.5555555555555556,\"#d8576b\"],[0.6666666666666666,\"#ed7953\"],[0.7777777777777778,\"#fb9f3a\"],[0.8888888888888888,\"#fdca26\"],[1.0,\"#f0f921\"]],\"sequentialminus\":[[0.0,\"#0d0887\"],[0.1111111111111111,\"#46039f\"],[0.2222222222222222,\"#7201a8\"],[0.3333333333333333,\"#9c179e\"],[0.4444444444444444,\"#bd3786\"],[0.5555555555555556,\"#d8576b\"],[0.6666666666666666,\"#ed7953\"],[0.7777777777777778,\"#fb9f3a\"],[0.8888888888888888,\"#fdca26\"],[1.0,\"#f0f921\"]],\"diverging\":[[0,\"#8e0152\"],[0.1,\"#c51b7d\"],[0.2,\"#de77ae\"],[0.3,\"#f1b6da\"],[0.4,\"#fde0ef\"],[0.5,\"#f7f7f7\"],[0.6,\"#e6f5d0\"],[0.7,\"#b8e186\"],[0.8,\"#7fbc41\"],[0.9,\"#4d9221\"],[1,\"#276419\"]]},\"xaxis\":{\"gridcolor\":\"white\",\"linecolor\":\"white\",\"ticks\":\"\",\"title\":{\"standoff\":15},\"zerolinecolor\":\"white\",\"automargin\":true,\"zerolinewidth\":2},\"yaxis\":{\"gridcolor\":\"white\",\"linecolor\":\"white\",\"ticks\":\"\",\"title\":{\"standoff\":15},\"zerolinecolor\":\"white\",\"automargin\":true,\"zerolinewidth\":2},\"scene\":{\"xaxis\":{\"backgroundcolor\":\"#E5ECF6\",\"gridcolor\":\"white\",\"linecolor\":\"white\",\"showbackground\":true,\"ticks\":\"\",\"zerolinecolor\":\"white\",\"gridwidth\":2},\"yaxis\":{\"backgroundcolor\":\"#E5ECF6\",\"gridcolor\":\"white\",\"linecolor\":\"white\",\"showbackground\":true,\"ticks\":\"\",\"zerolinecolor\":\"white\",\"gridwidth\":2},\"zaxis\":{\"backgroundcolor\":\"#E5ECF6\",\"gridcolor\":\"white\",\"linecolor\":\"white\",\"showbackground\":true,\"ticks\":\"\",\"zerolinecolor\":\"white\",\"gridwidth\":2}},\"shapedefaults\":{\"line\":{\"color\":\"#2a3f5f\"}},\"annotationdefaults\":{\"arrowcolor\":\"#2a3f5f\",\"arrowhead\":0,\"arrowwidth\":1},\"geo\":{\"bgcolor\":\"white\",\"landcolor\":\"#E5ECF6\",\"subunitcolor\":\"white\",\"showland\":true,\"showlakes\":true,\"lakecolor\":\"white\"},\"title\":{\"x\":0.05},\"mapbox\":{\"style\":\"light\"}}},\"xaxis\":{\"anchor\":\"y\",\"domain\":[0.0,1.0],\"title\":{\"text\":\"year\"}},\"yaxis\":{\"anchor\":\"x\",\"domain\":[0.0,1.0],\"title\":{\"text\":\"bpm\"}},\"legend\":{\"tracegroupgap\":0},\"margin\":{\"t\":60}},                        {\"responsive\": true}                    ).then(function(){\n",
       "                            \n",
       "var gd = document.getElementById('57c7211b-78ee-4ea3-862a-320fc96ae046');\n",
       "var x = new MutationObserver(function (mutations, observer) {{\n",
       "        var display = window.getComputedStyle(gd).display;\n",
       "        if (!display || display === 'none') {{\n",
       "            console.log([gd, 'removed!']);\n",
       "            Plotly.purge(gd);\n",
       "            observer.disconnect();\n",
       "        }}\n",
       "}});\n",
       "\n",
       "// Listen for the removal of the full notebook cells\n",
       "var notebookContainer = gd.closest('#notebook-container');\n",
       "if (notebookContainer) {{\n",
       "    x.observe(notebookContainer, {childList: true});\n",
       "}}\n",
       "\n",
       "// Listen for the clearing of the current output cell\n",
       "var outputEl = gd.closest('.output');\n",
       "if (outputEl) {{\n",
       "    x.observe(outputEl, {childList: true});\n",
       "}}\n",
       "\n",
       "                        })                };                });            </script>        </div>"
      ]
     },
     "metadata": {},
     "output_type": "display_data"
    }
   ],
   "source": [
    "import pandas as pd\n",
    "df = pd.read_csv('data/spotify_top_music.csv', encoding='ISO-8859-1')\n",
    "pd.options.plotting.backend = \"plotly\"\n",
    "df.plot.scatter(x='year', y='bpm', hover_name='title', hover_data=[\"artist\"])"
   ]
  },
  {
   "cell_type": "markdown",
   "id": "suspected-substitute",
   "metadata": {
    "id": "TAezigD_8u-1"
   },
   "source": [
    "## 2. Add text ✍️\n",
    "\n",
    "Add text cells with [Markdown syntax](https://www.markdownguide.org/basic-syntax/), like this one you're reading right now. This adds narrative to your work and makes it easier for all types of readers to follow your code, interpret visualizations, and understand your insights."
   ]
  },
  {
   "cell_type": "markdown",
   "id": "young-evaluation",
   "metadata": {
    "id": "6zXWKexuHxE9"
   },
   "source": [
    "## 3. Don’t know where to start? Look no further 📈\n",
    "\n",
    "###  Try our [ready-to-use datasets](https://app.datacamp.com/workspace/datasets)\n",
    "\n",
    "![Datasets](images/datasets.png)\n",
    "\n",
    "Take the next step in your data science learning journey and analyze intriguing datasets.\n",
    "\n",
    "### Or our [handy data science templates](https://app.datacamp.com/workspace/templates)!\n",
    "![Templates](images/templates.png)\n",
    "\n",
    "Experiment with our templates to analyze and visualize data faster than ever."
   ]
  },
  {
   "cell_type": "markdown",
   "id": "recent-boards",
   "metadata": {
    "id": "Rm2MvBfC9mYK",
    "tags": []
   },
   "source": [
    "## 4. Publish & share work 📖\n",
    "\n",
    "When you are ready to share your analysis, click the **Share** button to build a sleek publication that includes the rendered markdown text, code cells, and code output. You can choose who to share with and even enable commenting on the cells of your publication. When you publish your work, you can also feature it on your DataCamp profile - simply share the link to your DataCamp profile to share your portfolio! \n",
    "\n",
    "![Publish and comment](images/comment.png)\n"
   ]
  },
  {
   "cell_type": "code",
   "execution_count": null,
   "id": "6f8665d4-05a2-45ef-9bec-77db9504ee6e",
   "metadata": {
    "customType": "sql",
    "dataFrameVariableName": "df",
    "initial": true
   },
   "outputs": [],
   "source": []
  }
 ],
 "metadata": {
  "colab": {
   "name": "Welcome to DataCamp Workspaces.ipynb",
   "provenance": []
  },
  "kernelspec": {
   "display_name": "Python 3 (ipykernel)",
   "language": "python",
   "name": "python3"
  },
  "language_info": {
   "codemirror_mode": {
    "name": "ipython",
    "version": 3
   },
   "file_extension": ".py",
   "mimetype": "text/x-python",
   "name": "python",
   "nbconvert_exporter": "python",
   "pygments_lexer": "ipython3",
   "version": "3.11.7"
  },
  "varInspector": {
   "cols": {
    "lenName": 16,
    "lenType": 16,
    "lenVar": 40
   },
   "kernels_config": {
    "python": {
     "delete_cmd_postfix": "",
     "delete_cmd_prefix": "del ",
     "library": "var_list.py",
     "varRefreshCmd": "print(var_dic_list())"
    },
    "r": {
     "delete_cmd_postfix": ") ",
     "delete_cmd_prefix": "rm(",
     "library": "var_list.r",
     "varRefreshCmd": "cat(var_dic_list()) "
    }
   },
   "types_to_exclude": [
    "module",
    "function",
    "builtin_function_or_method",
    "instance",
    "_Feature"
   ],
   "window_display": false
  }
 },
 "nbformat": 4,
 "nbformat_minor": 5
}
